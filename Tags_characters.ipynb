{
  "cells": [
    {
      "cell_type": "markdown",
      "source": [
        "This section is to answer the first subquestion \"What are the common types of tags used by science fiction readers on the Goodreads website?\"\n",
        "\n",
        "Howerver, “the common types of tags” is a very general concept, so we decided to separate the first subquestion into four smaller questions, which are:\n",
        "(1) How many tags do reviewers prefer to choose to describe a science fiction?\n",
        "(2) What length tags do readers usually to mark science fiction?\n",
        "(3) Which lexicality is most common in labels? nouns? verbs? or adjectives?\n",
        "(4)What topics do these labels usually cover?"
      ],
      "metadata": {
        "id": "aIyZB0FaAbUc"
      },
      "id": "aIyZB0FaAbUc"
    },
    {
      "cell_type": "markdown",
      "source": [
        "In this section, we only show a summary of the results. For detailed conclusions and discussions, please refer to the results section of the paper."
      ],
      "metadata": {
        "id": "COx03Mixn61N"
      },
      "id": "COx03Mixn61N"
    },
    {
      "cell_type": "markdown",
      "id": "d6f9dbf9",
      "metadata": {
        "id": "d6f9dbf9"
      },
      "source": [
        "### **Q1:How many tags do reviewers prefer to choose to describe a science fiction?**"
      ]
    },
    {
      "cell_type": "markdown",
      "source": [
        "A reviewer adds tags to a science fiction, and the tag data is stored in the \"Tags\" column of the CSV file. Therefore, we need to extract the \"Tags\" column first, and then calculate the number of tags in each row of the \"Tags\" column.\n",
        "\n"
      ],
      "metadata": {
        "id": "cIKLpQ1uKREi"
      },
      "id": "cIKLpQ1uKREi"
    },
    {
      "cell_type": "code",
      "source": [
        "from google.colab import drive\n",
        "drive.mount('/content/drive')\n"
      ],
      "metadata": {
        "colab": {
          "base_uri": "https://localhost:8080/"
        },
        "id": "mFhmnU4QRwGQ",
        "outputId": "fdf79931-c48c-470d-eadd-dfa1b772a66d"
      },
      "id": "mFhmnU4QRwGQ",
      "execution_count": null,
      "outputs": [
        {
          "output_type": "stream",
          "name": "stdout",
          "text": [
            "Mounted at /content/drive\n"
          ]
        }
      ]
    },
    {
      "cell_type": "code",
      "execution_count": null,
      "id": "22e143f2",
      "metadata": {
        "id": "22e143f2"
      },
      "outputs": [],
      "source": [
        "# import required libraries\n",
        "import os\n",
        "import pandas as pd\n",
        "import csv"
      ]
    },
    {
      "cell_type": "markdown",
      "source": [
        "We extract the \"Tags\" column and store it in a new CSV file, which improves the efficiency of subsequent data processing. Due to the large amount of data in this case, it would be a waste of time to read and process the original CSV file each time.\n",
        "\n",
        "Please pay attention that the following code can be reused by simply replacing the folder path.\n",
        "\n"
      ],
      "metadata": {
        "id": "ki_UM9Xiq-jr"
      },
      "id": "ki_UM9Xiq-jr"
    },
    {
      "cell_type": "code",
      "execution_count": null,
      "id": "137db260",
      "metadata": {
        "id": "137db260"
      },
      "outputs": [],
      "source": [
        "# Specify the path to the folder containing the CSV files\n",
        "folder_path = \"/Users/wanshuo/Desktop/Master/DH_MA_thesis/scrape_metadata_and_reviews/reviews/page_5_reviews/\"\n",
        "\n",
        "# List all files in the folder that end with .csv\n",
        "csv_files = [f for f in os.listdir(folder_path) if f.endswith('.csv')]\n",
        "\n",
        "# Iterate over each CSV file\n",
        "for csv_file in csv_files:\n",
        "    # Construct the full path to the CSV file\n",
        "    file_path = os.path.join(folder_path, csv_file)\n",
        "\n",
        "    # Read the content of the CSV file into a DataFrame, assuming the first row is the header\n",
        "    data = pd.read_csv(file_path, header=0)\n",
        "\n",
        "    # Filter the DataFrame to include only rows where the 'Tags' column is not empty\n",
        "    non_empty_tags = data[data['Tags'].notna()]\n",
        "\n",
        "    # Extract the 'Tags' column from the filtered DataFrame\n",
        "    tags_column = non_empty_tags['Tags']\n",
        "\n",
        "    # Calculate the number of tags in each row's 'Tags' column, and create a new column 'Tag_Count' to store the results\n",
        "    non_empty_tags.loc[:, 'Tag_Count'] = tags_column.apply(lambda x: len(x.split('；')))\n",
        "\n",
        "    # Construct the output file name by removing the file extension and adding '_tag_count.csv'\n",
        "    output_file = os.path.splitext(csv_file)[0] + '_tag_count.csv'\n",
        "\n",
        "    # Open the output file in write mode with newline character mode\n",
        "    with open(output_file, mode='w', newline='') as file:\n",
        "        # Define the column names for the CSV file\n",
        "        fieldnames = ['Row', 'Tags', 'Tag_Count']\n",
        "\n",
        "        # Create a DictWriter object to write dictionaries to the CSV file\n",
        "        writer = csv.DictWriter(file, fieldnames=fieldnames)\n",
        "\n",
        "        # Write the header to the CSV file\n",
        "        writer.writeheader()\n",
        "\n",
        "        # Iterate over each row in the filtered DataFrame\n",
        "        for index, row in non_empty_tags.iterrows():\n",
        "            # Write each row's data to the CSV file, including row index, tags, and tag count\n",
        "            writer.writerow({'Row': index, 'Tags': row['Tags'], 'Tag_Count': row['Tag_Count']})\n"
      ]
    },
    {
      "cell_type": "markdown",
      "source": [
        "Finally, the number of tags is counted and a bar graph is plotted. The results of the statistics can help us answer the question \"How many tags do reviewers prefer to choose to describe a science fiction?”."
      ],
      "metadata": {
        "id": "aJV4juqGrsfo"
      },
      "id": "aJV4juqGrsfo"
    },
    {
      "cell_type": "code",
      "source": [
        "# import required libraries\n",
        "import os\n",
        "import pandas as pd\n",
        "import matplotlib.pyplot as plt"
      ],
      "metadata": {
        "id": "C5Uv_EXuUB_a"
      },
      "id": "C5Uv_EXuUB_a",
      "execution_count": null,
      "outputs": []
    },
    {
      "cell_type": "code",
      "execution_count": null,
      "id": "92260730",
      "metadata": {
        "id": "92260730",
        "outputId": "271f0418-5b2d-4f8c-bb46-8ce3531b57e9"
      },
      "outputs": [
        {
          "name": "stdout",
          "output_type": "stream",
          "text": [
            "3    13239\n",
            "1    12062\n",
            "2     6469\n",
            "Name: Tag_Count, dtype: int64\n"
          ]
        },
        {
          "data": {
            "image/png": "[encoded data removed]",
            "text/plain": [
              "<Figure size 432x288 with 1 Axes>"
            ]
          },
          "metadata": {
            "needs_background": "light"
          },
          "output_type": "display_data"
        }
      ],
      "source": [
        "# List of folder paths containing the CSV files\n",
        "folder_paths = [\n",
        "    \"/Users/wanshuo/Desktop/Master/DH_MA_thesis/scrape_metadata_and_reviews/tags/Page_1_tags\",\n",
        "    \"/Users/wanshuo/Desktop/Master/DH_MA_thesis/scrape_metadata_and_reviews/tags/Page_2_tags\",\n",
        "    \"/Users/wanshuo/Desktop/Master/DH_MA_thesis/scrape_metadata_and_reviews/tags/Page_3_tags\",\n",
        "    \"/Users/wanshuo/Desktop/Master/DH_MA_thesis/scrape_metadata_and_reviews/tags/Page_4_tags\",\n",
        "    \"/Users/wanshuo/Desktop/Master/DH_MA_thesis/scrape_metadata_and_reviews/tags/Page_5_tags\"\n",
        "]\n",
        "\n",
        "# Create an empty DataFrame to store combined data\n",
        "combined_data = pd.DataFrame()\n",
        "\n",
        "# Iterate over each folder path\n",
        "for folder_path in folder_paths:\n",
        "    # List all CSV files in the current folder\n",
        "    csv_files = [f for f in os.listdir(folder_path) if f.endswith('.csv')]\n",
        "\n",
        "    # Iterate over each CSV file in the current folder\n",
        "    for csv_file in csv_files:\n",
        "        # Construct the full path to the CSV file\n",
        "        file_path = os.path.join(folder_path, csv_file)\n",
        "\n",
        "        # Read the content of the CSV file into a DataFrame, assuming the first row is the header\n",
        "        data = pd.read_csv(file_path, header=0)\n",
        "\n",
        "        # Concatenate the data from the current CSV file to the combined DataFrame\n",
        "        combined_data = pd.concat([combined_data, data], ignore_index=True)\n",
        "\n",
        "# Calculate the frequency of each 'Tag_Count' value in the combined DataFrame\n",
        "tag_count_counts = combined_data['Tag_Count'].value_counts()\n",
        "\n",
        "# Print the frequency of each 'Tag_Count' value\n",
        "print(tag_count_counts)\n",
        "\n",
        "# Plot the distribution of 'Tag_Count' values as a bar chart\n",
        "plt.bar(tag_count_counts.index, tag_count_counts.values)\n",
        "plt.xlabel('Tag Count') # Label for the x-axis\n",
        "plt.ylabel('Number of Occurrences') # Label for the y-axis\n",
        "plt.title('Distribution of Tag Counts') # Title of the plot\n",
        "plt.show() # Display the plot\n"
      ]
    },
    {
      "cell_type": "markdown",
      "id": "e06bb728",
      "metadata": {
        "id": "e06bb728"
      },
      "source": [
        "### **Q2: What length tags do readers usually to mark a science fiction?**"
      ]
    },
    {
      "cell_type": "markdown",
      "source": [
        "In our study, all tags consist of English letters or English letters and hyphens. We need to calculate the length of each tag. For instance, the label \"best-of-2023\" is a string consisting of the characters 'b', 'e', 's', 't', '-', 'o', 'f', '-', '2', '0', '2', '3', and the length is 12. Then the frequency of occurrence of each label length is calculated. Finally, the distribution of tag lengths is visualised to help analyse the question \"What length tags do readers usually to mark a science fiction?\""
      ],
      "metadata": {
        "id": "E8jg7pHotbCg"
      },
      "id": "E8jg7pHotbCg"
    },
    {
      "cell_type": "code",
      "source": [
        "# import required libraries\n",
        "import os\n",
        "import pandas as pd\n",
        "import matplotlib.pyplot as plt"
      ],
      "metadata": {
        "id": "Z532ZwDKxOz7"
      },
      "id": "Z532ZwDKxOz7",
      "execution_count": null,
      "outputs": []
    },
    {
      "cell_type": "code",
      "execution_count": null,
      "id": "18d9205e",
      "metadata": {
        "scrolled": true,
        "id": "18d9205e",
        "outputId": "e9f8e338-71c8-4a5f-ddff-725c3f1b9c64"
      },
      "outputs": [
        {
          "name": "stdout",
          "output_type": "stream",
          "text": [
            "Tag Lengths and their Frequencies:\n",
            "7     3557\n",
            "9     2649\n",
            "4     1829\n",
            "10    1630\n",
            "13    1477\n",
            "5     1276\n",
            "12    1237\n",
            "6     1160\n",
            "15     993\n",
            "11     875\n",
            "3      843\n",
            "14     791\n",
            "16     662\n",
            "8      649\n",
            "17     549\n",
            "18     538\n",
            "20     321\n",
            "19     307\n",
            "21     220\n",
            "22     216\n",
            "23     188\n",
            "24     146\n",
            "25     133\n",
            "2      114\n",
            "26     111\n",
            "29      82\n",
            "27      73\n",
            "34      54\n",
            "28      50\n",
            "30      47\n",
            "33      36\n",
            "31      36\n",
            "32      32\n",
            "35      31\n",
            "1        9\n",
            "dtype: int64\n"
          ]
        },
        {
          "data": {
            "image/png": "[encoded data removed]",
            "text/plain": [
              "<Figure size 720x432 with 1 Axes>"
            ]
          },
          "metadata": {
            "needs_background": "light"
          },
          "output_type": "display_data"
        }
      ],
      "source": [
        "# Define a list of folder paths where the CSV files with tags are stored\n",
        "# This list specifies multiple directories to ensure all relevant files are included\n",
        "folder_paths = [\n",
        "    \"/Users/wanshuo/Desktop/Master/DH_MA_thesis/scrape_metadata_and_reviews/tags/Page_1_tags\",\n",
        "    \"/Users/wanshuo/Desktop/Master/DH_MA_thesis/scrape_metadata_and_reviews/tags/Page_2_tags\",\n",
        "    \"/Users/wanshuo/Desktop/Master/DH_MA_thesis/scrape_metadata_and_reviews/tags/Page_3_tags\",\n",
        "    \"/Users/wanshuo/Desktop/Master/DH_MA_thesis/scrape_metadata_and_reviews/tags/Page_4_tags\",\n",
        "    \"/Users/wanshuo/Desktop/Master/DH_MA_thesis/scrape_metadata_and_reviews/tags/Page_5_tags\"\n",
        "]\n",
        "\n",
        "# Initialize an empty list to store the lengths of tags\n",
        "# This list will be used to accumulate the length of each individual tag\n",
        "tag_lengths = []\n",
        "\n",
        "# Iterate over each file in the current folder\n",
        "for file_name in os.listdir(folder_path):\n",
        "    # Check if the current file has a .csv extension\n",
        "    # Only process files with a .csv extension to avoid other file types\n",
        "    if file_name.endswith('.csv'):\n",
        "        # Construct the full file path\n",
        "        # This provides the complete path to the file for reading\n",
        "        file_path = os.path.join(folder_path, file_name)\n",
        "\n",
        "        # Read the CSV file into a DataFrame\n",
        "        # This reads the CSV content into a pandas DataFrame for easier manipulation\n",
        "        data = pd.read_csv(file_path)\n",
        "\n",
        "        # Iterate over each cell in the 'Tags' column\n",
        "        for tags_cell in data['Tags']:\n",
        "            # Split the cell content into individual tags using '；' as the delimiter\n",
        "            # This separates the tags which are concatenated with '；'\n",
        "            tags_list = tags_cell.split('；')\n",
        "            # Iterate over each tag in the list\n",
        "            for tag in tags_list:\n",
        "                # Append the length of the current tag to the tag_lengths list\n",
        "                # This records the length of each tag to analyze their distribution later\n",
        "                tag_lengths.append(len(tag))\n",
        "\n",
        "# Create a Series from the tag lengths and count the occurrences of each length\n",
        "# This creates a frequency distribution of tag lengths\n",
        "tag_length_counts = pd.Series(tag_lengths).value_counts()\n",
        "# Print the tag lengths and their frequencies\n",
        "# Output the frequency distribution for inspection\n",
        "print(\"Tag Lengths and their Frequencies:\")\n",
        "print(tag_length_counts)\n",
        "\n",
        "# Create a new figure for the histogram\n",
        "# This sets up the dimensions of the plot\n",
        "plt.figure(figsize=(10, 6))\n",
        "\n",
        "# Plot a histogram of the tag lengths\n",
        "# This generates the histogram with specified bin size and color settings\n",
        "plt.hist(tag_lengths, bins=30, color='brown', edgecolor='black')\n",
        "# Set the label for the x-axis\n",
        "# This labels the x-axis to indicate it represents tag lengths\n",
        "plt.xlabel('Length of Tags')\n",
        "# Set the label for the y-axis\n",
        "# This labels the y-axis to indicate it represents the frequency of tag lengths\n",
        "plt.ylabel('Frequency')\n",
        "# Set the title of the plot\n",
        "# This provides a title to summarize the content of the plot\n",
        "plt.title('Distribution of Tag Lengths')\n",
        "# Display the plot\n",
        "# This renders the plot so it can be viewed\n",
        "plt.show()\n"
      ]
    },
    {
      "cell_type": "markdown",
      "id": "b8685558",
      "metadata": {
        "id": "b8685558"
      },
      "source": [
        "### **Q3:Which lexical term is most common in labels? nouns? verbs? or adjectives?**"
      ]
    },
    {
      "cell_type": "markdown",
      "source": [
        "Before running the code, make sure you have installed the spaCy library. spaCy is a powerful natural language processing library used for a variety of text analysis tasks (spaCy, n.d.). If you want to know more about spaCy, you can refer to https://spacy.io/"
      ],
      "metadata": {
        "id": "juJ5EMDm8DDy"
      },
      "id": "juJ5EMDm8DDy"
    },
    {
      "cell_type": "markdown",
      "source": [
        "If you have not installed spaCy yet, you can do so with the command:\n",
        "**!pip install spacy**.\n",
        "\n",
        "After installing the spaCy library, you will also need to download a language model, as spaCy uses pre-trained language models for text analysis. For English text, the **en_core_web_sm** model is usually used, which is enough for the majority text processing tasks."
      ],
      "metadata": {
        "id": "0DcmkfCIgIZN"
      },
      "id": "0DcmkfCIgIZN"
    },
    {
      "cell_type": "code",
      "execution_count": null,
      "id": "0fa2785e",
      "metadata": {
        "id": "0fa2785e",
        "outputId": "af3a7a74-52a9-4ebf-96df-ac1ae423813a"
      },
      "outputs": [
        {
          "name": "stdout",
          "output_type": "stream",
          "text": [
            "Collecting spacy==3.5.2\n",
            "  Using cached spacy-3.5.2-cp38-cp38-macosx_10_9_x86_64.whl (6.8 MB)\n",
            "Requirement already satisfied: preshed<3.1.0,>=3.0.2 in /Users/wanshuo/opt/Anaconda3/anaconda3/lib/python3.8/site-packages (from spacy==3.5.2) (3.0.9)\n",
            "Requirement already satisfied: requests<3.0.0,>=2.13.0 in /Users/wanshuo/opt/Anaconda3/anaconda3/lib/python3.8/site-packages (from spacy==3.5.2) (2.31.0)\n",
            "Requirement already satisfied: murmurhash<1.1.0,>=0.28.0 in /Users/wanshuo/opt/Anaconda3/anaconda3/lib/python3.8/site-packages (from spacy==3.5.2) (1.0.10)\n",
            "Collecting thinc<8.2.0,>=8.1.8\n",
            "  Using cached thinc-8.1.12-cp38-cp38-macosx_10_9_x86_64.whl (857 kB)\n",
            "Requirement already satisfied: pathy>=0.10.0 in /Users/wanshuo/opt/Anaconda3/anaconda3/lib/python3.8/site-packages (from spacy==3.5.2) (0.11.0)\n",
            "Requirement already satisfied: spacy-legacy<3.1.0,>=3.0.11 in /Users/wanshuo/opt/Anaconda3/anaconda3/lib/python3.8/site-packages (from spacy==3.5.2) (3.0.12)\n",
            "Requirement already satisfied: setuptools in /Users/wanshuo/opt/Anaconda3/anaconda3/lib/python3.8/site-packages (from spacy==3.5.2) (69.5.1)\n",
            "Requirement already satisfied: spacy-loggers<2.0.0,>=1.0.0 in /Users/wanshuo/opt/Anaconda3/anaconda3/lib/python3.8/site-packages (from spacy==3.5.2) (1.0.5)\n",
            "Requirement already satisfied: numpy>=1.15.0 in /Users/wanshuo/opt/Anaconda3/anaconda3/lib/python3.8/site-packages (from spacy==3.5.2) (1.24.4)\n",
            "Requirement already satisfied: smart-open<7.0.0,>=5.2.1 in /Users/wanshuo/opt/Anaconda3/anaconda3/lib/python3.8/site-packages (from spacy==3.5.2) (6.4.0)\n",
            "Collecting pydantic!=1.8,!=1.8.1,<1.11.0,>=1.7.4\n",
            "  Downloading pydantic-1.10.15-cp38-cp38-macosx_10_9_x86_64.whl (2.9 MB)\n",
            "\u001b[K     |████████████████████████████████| 2.9 MB 1.7 MB/s eta 0:00:01\n",
            "\u001b[?25hRequirement already satisfied: jinja2 in /Users/wanshuo/opt/Anaconda3/anaconda3/lib/python3.8/site-packages (from spacy==3.5.2) (3.1.4)\n",
            "Requirement already satisfied: langcodes<4.0.0,>=3.2.0 in /Users/wanshuo/opt/Anaconda3/anaconda3/lib/python3.8/site-packages (from spacy==3.5.2) (3.4.0)\n",
            "Collecting typer<0.8.0,>=0.3.0\n",
            "  Using cached typer-0.7.0-py3-none-any.whl (38 kB)\n",
            "Requirement already satisfied: catalogue<2.1.0,>=2.0.6 in /Users/wanshuo/opt/Anaconda3/anaconda3/lib/python3.8/site-packages (from spacy==3.5.2) (2.0.10)\n",
            "Requirement already satisfied: wasabi<1.2.0,>=0.9.1 in /Users/wanshuo/opt/Anaconda3/anaconda3/lib/python3.8/site-packages (from spacy==3.5.2) (1.1.2)\n",
            "Requirement already satisfied: cymem<2.1.0,>=2.0.2 in /Users/wanshuo/opt/Anaconda3/anaconda3/lib/python3.8/site-packages (from spacy==3.5.2) (2.0.8)\n",
            "Requirement already satisfied: srsly<3.0.0,>=2.4.3 in /Users/wanshuo/opt/Anaconda3/anaconda3/lib/python3.8/site-packages (from spacy==3.5.2) (2.4.8)\n",
            "Requirement already satisfied: tqdm<5.0.0,>=4.38.0 in /Users/wanshuo/opt/Anaconda3/anaconda3/lib/python3.8/site-packages (from spacy==3.5.2) (4.66.4)\n",
            "Requirement already satisfied: packaging>=20.0 in /Users/wanshuo/opt/Anaconda3/anaconda3/lib/python3.8/site-packages (from spacy==3.5.2) (24.0)\n",
            "Requirement already satisfied: language-data>=1.2 in /Users/wanshuo/opt/Anaconda3/anaconda3/lib/python3.8/site-packages (from langcodes<4.0.0,>=3.2.0->spacy==3.5.2) (1.2.0)\n",
            "Requirement already satisfied: marisa-trie>=0.7.7 in /Users/wanshuo/opt/Anaconda3/anaconda3/lib/python3.8/site-packages (from language-data>=1.2->langcodes<4.0.0,>=3.2.0->spacy==3.5.2) (1.1.1)\n",
            "Requirement already satisfied: pathlib-abc==0.1.1 in /Users/wanshuo/opt/Anaconda3/anaconda3/lib/python3.8/site-packages (from pathy>=0.10.0->spacy==3.5.2) (0.1.1)\n",
            "Requirement already satisfied: typing-extensions>=4.2.0 in /Users/wanshuo/opt/Anaconda3/anaconda3/lib/python3.8/site-packages (from pydantic!=1.8,!=1.8.1,<1.11.0,>=1.7.4->spacy==3.5.2) (4.11.0)\n",
            "Requirement already satisfied: idna<4,>=2.5 in /Users/wanshuo/opt/Anaconda3/anaconda3/lib/python3.8/site-packages (from requests<3.0.0,>=2.13.0->spacy==3.5.2) (3.7)\n",
            "Requirement already satisfied: charset-normalizer<4,>=2 in /Users/wanshuo/opt/Anaconda3/anaconda3/lib/python3.8/site-packages (from requests<3.0.0,>=2.13.0->spacy==3.5.2) (3.3.2)\n",
            "Requirement already satisfied: certifi>=2017.4.17 in /Users/wanshuo/opt/Anaconda3/anaconda3/lib/python3.8/site-packages (from requests<3.0.0,>=2.13.0->spacy==3.5.2) (2024.2.2)\n",
            "Requirement already satisfied: urllib3<3,>=1.21.1 in /Users/wanshuo/opt/Anaconda3/anaconda3/lib/python3.8/site-packages (from requests<3.0.0,>=2.13.0->spacy==3.5.2) (2.2.1)\n",
            "Requirement already satisfied: blis<0.8.0,>=0.7.8 in /Users/wanshuo/opt/Anaconda3/anaconda3/lib/python3.8/site-packages (from thinc<8.2.0,>=8.1.8->spacy==3.5.2) (0.7.11)\n",
            "Requirement already satisfied: confection<1.0.0,>=0.0.1 in /Users/wanshuo/opt/Anaconda3/anaconda3/lib/python3.8/site-packages (from thinc<8.2.0,>=8.1.8->spacy==3.5.2) (0.1.4)\n",
            "Requirement already satisfied: click<9.0.0,>=7.1.1 in /Users/wanshuo/opt/Anaconda3/anaconda3/lib/python3.8/site-packages (from typer<0.8.0,>=0.3.0->spacy==3.5.2) (8.1.7)\n",
            "Requirement already satisfied: MarkupSafe>=2.0 in /Users/wanshuo/opt/Anaconda3/anaconda3/lib/python3.8/site-packages (from jinja2->spacy==3.5.2) (2.1.5)\n",
            "Installing collected packages: pydantic, typer, thinc, spacy\n",
            "  Attempting uninstall: pydantic\n",
            "    Found existing installation: pydantic 2.7.1\n",
            "    Uninstalling pydantic-2.7.1:\n",
            "      Successfully uninstalled pydantic-2.7.1\n",
            "  Attempting uninstall: typer\n",
            "    Found existing installation: typer 0.12.3\n",
            "    Uninstalling typer-0.12.3:\n",
            "      Successfully uninstalled typer-0.12.3\n",
            "  Attempting uninstall: thinc\n",
            "    Found existing installation: thinc 8.2.3\n",
            "    Uninstalling thinc-8.2.3:\n",
            "      Successfully uninstalled thinc-8.2.3\n",
            "  Attempting uninstall: spacy\n",
            "    Found existing installation: spacy 3.7.4\n",
            "    Uninstalling spacy-3.7.4:\n",
            "      Successfully uninstalled spacy-3.7.4\n",
            "Successfully installed pydantic-1.10.15 spacy-3.5.2 thinc-8.1.12 typer-0.7.0\n"
          ]
        }
      ],
      "source": [
        "#Install the spaCy library\n",
        "!pip install spacy==3.5.2"
      ]
    },
    {
      "cell_type": "code",
      "execution_count": null,
      "id": "a3df9541-ddc3-48a0-9ce3-0c44db22c76d",
      "metadata": {
        "id": "a3df9541-ddc3-48a0-9ce3-0c44db22c76d",
        "outputId": "4fa1b57f-3823-4068-8d8e-18d8a874c600"
      },
      "outputs": [
        {
          "name": "stdout",
          "output_type": "stream",
          "text": [
            "Collecting en-core-web-sm==3.5.0\n",
            "  Downloading https://github.com/explosion/spacy-models/releases/download/en_core_web_sm-3.5.0/en_core_web_sm-3.5.0-py3-none-any.whl (12.8 MB)\n",
            "\u001b[K     |████████████████████████████████| 12.8 MB 3.1 MB/s eta 0:00:01\n",
            "\u001b[?25hRequirement already satisfied: spacy<3.6.0,>=3.5.0 in /Users/wanshuo/opt/Anaconda3/anaconda3/lib/python3.8/site-packages (from en-core-web-sm==3.5.0) (3.5.2)\n",
            "Requirement already satisfied: smart-open<7.0.0,>=5.2.1 in /Users/wanshuo/opt/Anaconda3/anaconda3/lib/python3.8/site-packages (from spacy<3.6.0,>=3.5.0->en-core-web-sm==3.5.0) (6.4.0)\n",
            "Requirement already satisfied: typer<0.8.0,>=0.3.0 in /Users/wanshuo/opt/Anaconda3/anaconda3/lib/python3.8/site-packages (from spacy<3.6.0,>=3.5.0->en-core-web-sm==3.5.0) (0.7.0)\n",
            "Requirement already satisfied: thinc<8.2.0,>=8.1.8 in /Users/wanshuo/opt/Anaconda3/anaconda3/lib/python3.8/site-packages (from spacy<3.6.0,>=3.5.0->en-core-web-sm==3.5.0) (8.1.12)\n",
            "Requirement already satisfied: spacy-loggers<2.0.0,>=1.0.0 in /Users/wanshuo/opt/Anaconda3/anaconda3/lib/python3.8/site-packages (from spacy<3.6.0,>=3.5.0->en-core-web-sm==3.5.0) (1.0.5)\n",
            "Requirement already satisfied: setuptools in /Users/wanshuo/opt/Anaconda3/anaconda3/lib/python3.8/site-packages (from spacy<3.6.0,>=3.5.0->en-core-web-sm==3.5.0) (69.5.1)\n",
            "Requirement already satisfied: murmurhash<1.1.0,>=0.28.0 in /Users/wanshuo/opt/Anaconda3/anaconda3/lib/python3.8/site-packages (from spacy<3.6.0,>=3.5.0->en-core-web-sm==3.5.0) (1.0.10)\n",
            "Requirement already satisfied: preshed<3.1.0,>=3.0.2 in /Users/wanshuo/opt/Anaconda3/anaconda3/lib/python3.8/site-packages (from spacy<3.6.0,>=3.5.0->en-core-web-sm==3.5.0) (3.0.9)\n",
            "Requirement already satisfied: packaging>=20.0 in /Users/wanshuo/opt/Anaconda3/anaconda3/lib/python3.8/site-packages (from spacy<3.6.0,>=3.5.0->en-core-web-sm==3.5.0) (24.0)\n",
            "Requirement already satisfied: pydantic!=1.8,!=1.8.1,<1.11.0,>=1.7.4 in /Users/wanshuo/opt/Anaconda3/anaconda3/lib/python3.8/site-packages (from spacy<3.6.0,>=3.5.0->en-core-web-sm==3.5.0) (1.10.15)\n",
            "Requirement already satisfied: srsly<3.0.0,>=2.4.3 in /Users/wanshuo/opt/Anaconda3/anaconda3/lib/python3.8/site-packages (from spacy<3.6.0,>=3.5.0->en-core-web-sm==3.5.0) (2.4.8)\n",
            "Requirement already satisfied: cymem<2.1.0,>=2.0.2 in /Users/wanshuo/opt/Anaconda3/anaconda3/lib/python3.8/site-packages (from spacy<3.6.0,>=3.5.0->en-core-web-sm==3.5.0) (2.0.8)\n",
            "Requirement already satisfied: tqdm<5.0.0,>=4.38.0 in /Users/wanshuo/opt/Anaconda3/anaconda3/lib/python3.8/site-packages (from spacy<3.6.0,>=3.5.0->en-core-web-sm==3.5.0) (4.66.4)\n",
            "Requirement already satisfied: pathy>=0.10.0 in /Users/wanshuo/opt/Anaconda3/anaconda3/lib/python3.8/site-packages (from spacy<3.6.0,>=3.5.0->en-core-web-sm==3.5.0) (0.11.0)\n",
            "Requirement already satisfied: langcodes<4.0.0,>=3.2.0 in /Users/wanshuo/opt/Anaconda3/anaconda3/lib/python3.8/site-packages (from spacy<3.6.0,>=3.5.0->en-core-web-sm==3.5.0) (3.4.0)\n",
            "Requirement already satisfied: jinja2 in /Users/wanshuo/opt/Anaconda3/anaconda3/lib/python3.8/site-packages (from spacy<3.6.0,>=3.5.0->en-core-web-sm==3.5.0) (3.1.4)\n",
            "Requirement already satisfied: spacy-legacy<3.1.0,>=3.0.11 in /Users/wanshuo/opt/Anaconda3/anaconda3/lib/python3.8/site-packages (from spacy<3.6.0,>=3.5.0->en-core-web-sm==3.5.0) (3.0.12)\n",
            "Requirement already satisfied: catalogue<2.1.0,>=2.0.6 in /Users/wanshuo/opt/Anaconda3/anaconda3/lib/python3.8/site-packages (from spacy<3.6.0,>=3.5.0->en-core-web-sm==3.5.0) (2.0.10)\n",
            "Requirement already satisfied: wasabi<1.2.0,>=0.9.1 in /Users/wanshuo/opt/Anaconda3/anaconda3/lib/python3.8/site-packages (from spacy<3.6.0,>=3.5.0->en-core-web-sm==3.5.0) (1.1.2)\n",
            "Requirement already satisfied: requests<3.0.0,>=2.13.0 in /Users/wanshuo/opt/Anaconda3/anaconda3/lib/python3.8/site-packages (from spacy<3.6.0,>=3.5.0->en-core-web-sm==3.5.0) (2.31.0)\n",
            "Requirement already satisfied: numpy>=1.15.0 in /Users/wanshuo/opt/Anaconda3/anaconda3/lib/python3.8/site-packages (from spacy<3.6.0,>=3.5.0->en-core-web-sm==3.5.0) (1.24.4)\n",
            "Requirement already satisfied: language-data>=1.2 in /Users/wanshuo/opt/Anaconda3/anaconda3/lib/python3.8/site-packages (from langcodes<4.0.0,>=3.2.0->spacy<3.6.0,>=3.5.0->en-core-web-sm==3.5.0) (1.2.0)\n",
            "Requirement already satisfied: marisa-trie>=0.7.7 in /Users/wanshuo/opt/Anaconda3/anaconda3/lib/python3.8/site-packages (from language-data>=1.2->langcodes<4.0.0,>=3.2.0->spacy<3.6.0,>=3.5.0->en-core-web-sm==3.5.0) (1.1.1)\n",
            "Requirement already satisfied: pathlib-abc==0.1.1 in /Users/wanshuo/opt/Anaconda3/anaconda3/lib/python3.8/site-packages (from pathy>=0.10.0->spacy<3.6.0,>=3.5.0->en-core-web-sm==3.5.0) (0.1.1)\n",
            "Requirement already satisfied: typing-extensions>=4.2.0 in /Users/wanshuo/opt/Anaconda3/anaconda3/lib/python3.8/site-packages (from pydantic!=1.8,!=1.8.1,<1.11.0,>=1.7.4->spacy<3.6.0,>=3.5.0->en-core-web-sm==3.5.0) (4.11.0)\n",
            "Requirement already satisfied: certifi>=2017.4.17 in /Users/wanshuo/opt/Anaconda3/anaconda3/lib/python3.8/site-packages (from requests<3.0.0,>=2.13.0->spacy<3.6.0,>=3.5.0->en-core-web-sm==3.5.0) (2024.2.2)\n",
            "Requirement already satisfied: charset-normalizer<4,>=2 in /Users/wanshuo/opt/Anaconda3/anaconda3/lib/python3.8/site-packages (from requests<3.0.0,>=2.13.0->spacy<3.6.0,>=3.5.0->en-core-web-sm==3.5.0) (3.3.2)\n",
            "Requirement already satisfied: urllib3<3,>=1.21.1 in /Users/wanshuo/opt/Anaconda3/anaconda3/lib/python3.8/site-packages (from requests<3.0.0,>=2.13.0->spacy<3.6.0,>=3.5.0->en-core-web-sm==3.5.0) (2.2.1)\n",
            "Requirement already satisfied: idna<4,>=2.5 in /Users/wanshuo/opt/Anaconda3/anaconda3/lib/python3.8/site-packages (from requests<3.0.0,>=2.13.0->spacy<3.6.0,>=3.5.0->en-core-web-sm==3.5.0) (3.7)\n",
            "Requirement already satisfied: confection<1.0.0,>=0.0.1 in /Users/wanshuo/opt/Anaconda3/anaconda3/lib/python3.8/site-packages (from thinc<8.2.0,>=8.1.8->spacy<3.6.0,>=3.5.0->en-core-web-sm==3.5.0) (0.1.4)\n",
            "Requirement already satisfied: blis<0.8.0,>=0.7.8 in /Users/wanshuo/opt/Anaconda3/anaconda3/lib/python3.8/site-packages (from thinc<8.2.0,>=8.1.8->spacy<3.6.0,>=3.5.0->en-core-web-sm==3.5.0) (0.7.11)\n",
            "Requirement already satisfied: click<9.0.0,>=7.1.1 in /Users/wanshuo/opt/Anaconda3/anaconda3/lib/python3.8/site-packages (from typer<0.8.0,>=0.3.0->spacy<3.6.0,>=3.5.0->en-core-web-sm==3.5.0) (8.1.7)\n",
            "Requirement already satisfied: MarkupSafe>=2.0 in /Users/wanshuo/opt/Anaconda3/anaconda3/lib/python3.8/site-packages (from jinja2->spacy<3.6.0,>=3.5.0->en-core-web-sm==3.5.0) (2.1.5)\n",
            "Installing collected packages: en-core-web-sm\n",
            "Successfully installed en-core-web-sm-3.5.0\n",
            "\u001b[38;5;2m✔ Download and installation successful\u001b[0m\n",
            "You can now load the package via spacy.load('en_core_web_sm')\n"
          ]
        }
      ],
      "source": [
        "# Install English language model\n",
        "!python -m spacy download en_core_web_sm"
      ]
    },
    {
      "cell_type": "code",
      "source": [
        "# import required libraries\n",
        "import os\n",
        "import pandas as pd\n",
        "import spacy"
      ],
      "metadata": {
        "id": "XYPmImJjaZyU"
      },
      "id": "XYPmImJjaZyU",
      "execution_count": null,
      "outputs": []
    },
    {
      "cell_type": "markdown",
      "source": [
        "Through observation, we noticed that many tags are repeated as readers may have referred to tags from previous reviewers. In order to reduce the workload and avoid repeating efforts, we need to count the frequency of tag first.\n",
        "\n",
        "The following code can be reused by simply replacing the folder path."
      ],
      "metadata": {
        "id": "VmxOXYEtg2C5"
      },
      "id": "VmxOXYEtg2C5"
    },
    {
      "cell_type": "code",
      "source": [
        "# Specify the folder path where the CSV files are located\n",
        "# This sets the directory to search for CSV files containing tag data\n",
        "folder_path = \"/content/drive/MyDrive/Page_5_tags\"\n",
        "\n",
        "# Initialize an empty DataFrame to store the results\n",
        "# This DataFrame will be used to accumulate the frequency of tags across multiple files\n",
        "result_df = pd.DataFrame()\n",
        "\n",
        "# Iterate over each file in the specified folder\n",
        "for file_name in os.listdir(folder_path):\n",
        "    # Check if the file is a CSV file\n",
        "    # Only process files with a .csv extension to avoid non-CSV files\n",
        "    if file_name.endswith('.csv'):\n",
        "        # Construct the full file path\n",
        "        # This provides the complete path to the file for reading\n",
        "        file_path = os.path.join(folder_path, file_name)\n",
        "\n",
        "        # Read the CSV file into a DataFrame\n",
        "        # This reads the CSV content into a pandas DataFrame for easier manipulation\n",
        "        data = pd.read_csv(file_path)\n",
        "\n",
        "        # Initialize a list to store all tags from the current file\n",
        "        # This list will be used to collect all tags from the 'Tags' column\n",
        "        all_tags = []\n",
        "\n",
        "        # Iterate over each cell in the 'Tags' column\n",
        "        for tags_cell in data['Tags']:\n",
        "            # Check if the cell is a string (not NaN or other types)\n",
        "            # Only process cells that contain string data\n",
        "            if isinstance(tags_cell, str):\n",
        "                # Split the cell content into individual tags using '；' as the delimiter\n",
        "                # This separates the tags which are concatenated with '；'\n",
        "                tags_list = tags_cell.split('；')\n",
        "                # Extend the all_tags list with the tags from the current cell\n",
        "                # This adds the tags to the list for further processing\n",
        "                all_tags.extend(tags_list)\n",
        "            else:\n",
        "                # Skip cells that do not contain strings\n",
        "                # This ensures only valid tag data is processed\n",
        "                continue\n",
        "\n",
        "        # Create a DataFrame from the list of tags\n",
        "        # This converts the list of tags into a DataFrame for easier frequency calculation\n",
        "        tags_df = pd.DataFrame(all_tags, columns=['Tag'])\n",
        "\n",
        "        # Calculate the frequency of each tag\n",
        "        # This groups the tags by their value and counts the occurrences of each tag\n",
        "        tags_freq = tags_df.groupby('Tag').size().reset_index(name='Frequency')\n",
        "\n",
        "        # Concatenate the current file's tag frequencies with the result DataFrame\n",
        "        # This accumulates the tag frequencies from all files into a single DataFrame\n",
        "        result_df = pd.concat([result_df, tags_freq], ignore_index=True)\n",
        "\n",
        "# Group by tag and sum the frequencies to get the final result\n",
        "# This combines the frequencies of the same tags across all files\n",
        "final_result = result_df.groupby('Tag')['Frequency'].sum().reset_index()\n",
        "\n",
        "# Sort the final result by frequency in descending order\n",
        "# This sorts the tags by their frequency, with the most frequent tags first\n",
        "final_result = final_result.sort_values(by='Frequency', ascending=False).reset_index(drop=True)\n",
        "\n",
        "# Print the final result\n",
        "# This outputs the final tag frequency DataFrame for inspection\n",
        "print(final_result)\n",
        "\n",
        "# Specify the output file path\n",
        "# This sets the destination path for saving the result as a CSV file\n",
        "output_file = \"/content/drive/MyDrive/Page_5_tags_frequency.csv\"\n",
        "# Save the final result to a CSV file\n",
        "# This writes the DataFrame to a CSV file without including the index\n",
        "final_result.to_csv(output_file, index=False)\n"
      ],
      "metadata": {
        "colab": {
          "base_uri": "https://localhost:8080/"
        },
        "id": "Abm8wUvHRCkn",
        "outputId": "f1c7518d-9985-4942-a732-1895c348e568"
      },
      "id": "Abm8wUvHRCkn",
      "execution_count": null,
      "outputs": [
        {
          "output_type": "stream",
          "name": "stdout",
          "text": [
            "                     Tag  Frequency\n",
            "0                fantasy        313\n",
            "1                   2023        253\n",
            "2        science-fiction         99\n",
            "3              netgalley         90\n",
            "4                    arc         82\n",
            "...                  ...        ...\n",
            "1912  cozy-comfort-reads          1\n",
            "1913              cozies          1\n",
            "1914               coyer          1\n",
            "1915              covers          1\n",
            "1916               肉包不吃肉          1\n",
            "\n",
            "[1917 rows x 2 columns]\n"
          ]
        }
      ]
    },
    {
      "cell_type": "markdown",
      "source": [
        "The processing of single word tags and compound tags is different, so the tags need to be divided into single word tags and compound tags, and eventually saved as two CSV files respectively.\n",
        "\n",
        "Single word tags are easy to judge, for example, \"fantasy\", \"2023\" are considered as single word tags；If the label contains hyphens or underscores, it is considered a compound label."
      ],
      "metadata": {
        "id": "atjMqeOOLUhx"
      },
      "id": "atjMqeOOLUhx"
    },
    {
      "cell_type": "code",
      "source": [
        "# List of file paths for the CSV files to be combined\n",
        "# These file paths specify the locations of the individual tag frequency CSV files to be processed.\n",
        "csv_files = [\n",
        "    \"/content/drive/MyDrive/Page_1_tags_frequency.csv\",\n",
        "    \"/content/drive/MyDrive/Page_2_tags_frequency.csv\",\n",
        "    \"/content/drive/MyDrive/Page_3_tags_frequency.csv\",\n",
        "    \"/content/drive/MyDrive/Page_4_tags_frequency.csv\",\n",
        "    \"/content/drive/MyDrive/Page_5_tags_frequency.csv\"\n",
        "]\n",
        "\n",
        "# Create an empty DataFrame to hold the combined data\n",
        "# This DataFrame will be used to store the combined data from all the CSV files.\n",
        "combined_df = pd.DataFrame()\n",
        "\n",
        "# Iterate over each file path in the list of CSV files\n",
        "for file_path in csv_files:\n",
        "    # Read the CSV file into a DataFrame\n",
        "    # This reads the current CSV file into a DataFrame for further processing.\n",
        "    file_df = pd.read_csv(file_path)\n",
        "    # Concatenate the current file DataFrame with the combined DataFrame\n",
        "    # This combines the current DataFrame with the previously combined data.\n",
        "    # ignore_index=True ensures that the index is reset in the combined DataFrame.\n",
        "    combined_df = pd.concat([combined_df, file_df], ignore_index=True)\n",
        "\n",
        "# Group the combined DataFrame by 'Tag' and sum the 'Frequency' for each tag\n",
        "# This aggregates the frequency counts for each tag across all files, providing the total frequency per tag.\n",
        "final_result = combined_df.groupby('Tag')['Frequency'].sum().reset_index()\n",
        "\n",
        "# Sort the final result DataFrame by 'Frequency' in descending order\n",
        "# This sorts the tags by their frequency, with the most frequent tags at the top.\n",
        "# reset_index(drop=True) resets the index after sorting.\n",
        "final_result = final_result.sort_values(by='Frequency', ascending=False).reset_index(drop=True)\n",
        "\n",
        "# Initialize lists to store single word tags and composite tags separately\n",
        "# These lists will be used to separate tags into single word and composite tags based on the presence of hyphens or underscores.\n",
        "single_word_tags = []\n",
        "composite_tags = []\n",
        "\n",
        "# Iterate over each row in the final result DataFrame\n",
        "for _, row in final_result.iterrows():\n",
        "    # Extract the tag and its frequency from the current row\n",
        "    tag = row['Tag']\n",
        "    frequency = row['Frequency']\n",
        "    # Check if the tag contains a hyphen or underscore to determine if it's a composite tag\n",
        "    if '-' in tag or '_' in tag:\n",
        "        # If the tag contains a hyphen or underscore, add it to the composite tags list\n",
        "        # This categorizes the tag as a composite tag because it contains special characters that likely combine multiple words.\n",
        "        composite_tags.append({'Tag': tag, 'Frequency': frequency})\n",
        "    else:\n",
        "        # If the tag does not contain a hyphen or underscore, add it to the single word tags list\n",
        "        # This categorizes the tag as a single word tag because it does not contain special characters, indicating it's a single word.\n",
        "        single_word_tags.append({'Tag': tag, 'Frequency': frequency})\n",
        "\n",
        "# Create DataFrames for single word tags and composite tags\n",
        "# These DataFrames will store the separated tags for output\n",
        "single_word_df = pd.DataFrame(single_word_tags)\n",
        "composite_tags_df = pd.DataFrame(composite_tags)\n",
        "\n",
        "# Print the single word tags DataFrame\n",
        "# Display the single word tags for verification.\n",
        "print(\"Single Word Tags:\")\n",
        "print(single_word_df)\n",
        "# Print the composite tags DataFrame\n",
        "# Display the composite tags for verification.\n",
        "print(\"\\nComposite Tags:\")\n",
        "print(composite_tags_df)\n",
        "\n",
        "# Define the output file paths for the single word tags and composite tags CSV files\n",
        "# These file paths specify where to save the output CSV files.\n",
        "single_word_output = \"/content/drive/MyDrive/single_word_tags.csv\"\n",
        "composite_tags_output = \"/content/drive/MyDrive/composite_tags.csv\"\n",
        "\n",
        "# Save the single word tags DataFrame to a CSV file\n",
        "# This writes the single word tags to a CSV file without including the index.\n",
        "single_word_df.to_csv(single_word_output, index=False)\n",
        "# Save the composite tags DataFrame to a CSV file\n",
        "# This writes the composite tags to a CSV file without including the index.\n",
        "composite_tags_df.to_csv(composite_tags_output, index=False)\n",
        "\n",
        "# Print messages indicating where the results have been saved\n",
        "# These messages confirm that the CSV files have been successfully saved to the specified locations.\n",
        "print(f\"Single word tags saved to {single_word_output}\")\n",
        "print(f\"Composite tags saved to {composite_tags_output}\")\n"
      ],
      "metadata": {
        "colab": {
          "base_uri": "https://localhost:8080/"
        },
        "id": "oWGPAEVayt-j",
        "outputId": "b532756a-dc90-4d5c-8a4e-9ce09cb3d0ce"
      },
      "id": "oWGPAEVayt-j",
      "execution_count": null,
      "outputs": [
        {
          "output_type": "stream",
          "name": "stdout",
          "text": [
            "Single Word Tags:\n",
            "            Tag  Frequency\n",
            "0       fantasy       5512\n",
            "1          2023       2664\n",
            "2     netgalley       1691\n",
            "3           arc       1442\n",
            "4     favorites       1353\n",
            "...         ...        ...\n",
            "1829   drinking          1\n",
            "1830     druids          1\n",
            "1831   dragones          1\n",
            "1832     double          1\n",
            "1833      肉包不吃肉          1\n",
            "\n",
            "[1834 rows x 2 columns]\n",
            "\n",
            "Composite Tags:\n",
            "                        Tag  Frequency\n",
            "0                2023-reads        782\n",
            "1           science-fiction        768\n",
            "2             2023-releases        739\n",
            "3                    sci-fi        642\n",
            "4              read-in-2023        434\n",
            "...                     ...        ...\n",
            "10548        double-virgins          1\n",
            "10549        down-and-dirty          1\n",
            "10550  down-the-rabbit-hole          1\n",
            "10551      downloaded-ebook          1\n",
            "10552         dragging-plot          1\n",
            "\n",
            "[10553 rows x 2 columns]\n",
            "Single word tags saved to /content/drive/MyDrive/single_word_tags.csv\n",
            "Composite tags saved to /content/drive/MyDrive/composite_tags.csv\n"
          ]
        }
      ]
    },
    {
      "cell_type": "markdown",
      "source": [
        "There are many languages of labels, including English, German, French, Polish, Chinese and so on. This study only focuses on English labels, so we need to clean the label data and keep only the labels whose language is English."
      ],
      "metadata": {
        "id": "me-ISr6Y4Vzy"
      },
      "id": "me-ISr6Y4Vzy"
    },
    {
      "cell_type": "code",
      "source": [
        "#import required libraries\n",
        "import pandas as pd\n",
        "import re"
      ],
      "metadata": {
        "id": "QQRG3ui-K8Rz"
      },
      "id": "QQRG3ui-K8Rz",
      "execution_count": null,
      "outputs": []
    },
    {
      "cell_type": "code",
      "source": [
        "# Define the folder path where the composite tags CSV file is located\n",
        "# This path points to the location of the composite tags CSV file that needs to be processed.\n",
        "folder_path = \"/content/drive/MyDrive/composite_tags.csv\"\n",
        "\n",
        "# Read the CSV file into a DataFrame\n",
        "# This loads the composite tags CSV file into a pandas DataFrame for data manipulation and analysis.\n",
        "df = pd.read_csv(folder_path)\n",
        "\n",
        "# Print the first few rows of the DataFrame to verify its contents\n",
        "# This provides a preview of the DataFrame, allowing you to check that it has been read correctly.\n",
        "print(df.head())\n",
        "\n",
        "# Define a function to check if a tag is valid based on a regex pattern\n",
        "# This function uses a regular expression to determine if a tag is valid.\n",
        "# The regex pattern allows only alphanumeric characters and hyphens, ensuring tags are clean and standardized.\n",
        "def is_valid_tag(tag):\n",
        "    # Check if the tag matches the regex pattern '^[a-zA-Z0-9-]+$'\n",
        "    return re.match(r'^[a-zA-Z0-9-]+$', tag) is not None\n",
        "\n",
        "# Apply the is_valid_tag function to the 'Tag' column and filter the DataFrame for valid tags\n",
        "# This filters the DataFrame to include only rows where the 'Tag' column matches the validity criteria.\n",
        "# Applying this function ensures that only clean, valid tags are retained in the DataFrame.\n",
        "df_cleaned = df[df['Tag'].apply(is_valid_tag)]\n",
        "\n",
        "# Print the first few rows of the cleaned DataFrame to verify the filtering\n",
        "# This provides a preview of the cleaned DataFrame, allowing you to check that the invalid tags have been removed.\n",
        "print(df_cleaned.head())\n",
        "\n",
        "# Define the output path for the cleaned composite tags CSV file\n",
        "# This specifies where the cleaned DataFrame will be saved as a CSV file.\n",
        "output_path = \"/content/drive/MyDrive/composite_tags_cleaned.csv\"\n",
        "# Save the cleaned DataFrame to a CSV file without including the index\n",
        "# This writes the cleaned DataFrame to the specified CSV file.\n",
        "# The index=False parameter ensures that the index is not included in the saved file, making it cleaner and more readable.\n",
        "df_cleaned.to_csv(output_path, index=False)\n"
      ],
      "metadata": {
        "colab": {
          "base_uri": "https://localhost:8080/"
        },
        "id": "yq61vjUH61AO",
        "outputId": "9c03f2b8-e5c8-4597-91a1-6cd85ceb7f8c"
      },
      "id": "yq61vjUH61AO",
      "execution_count": null,
      "outputs": [
        {
          "output_type": "stream",
          "name": "stdout",
          "text": [
            "               Tag  Frequency\n",
            "0       2023-reads        782\n",
            "1  science-fiction        768\n",
            "2    2023-releases        739\n",
            "3           sci-fi        642\n",
            "4     read-in-2023        434\n",
            "               Tag  Frequency\n",
            "0       2023-reads        782\n",
            "1  science-fiction        768\n",
            "2    2023-releases        739\n",
            "3           sci-fi        642\n",
            "4     read-in-2023        434\n"
          ]
        }
      ]
    },
    {
      "cell_type": "markdown",
      "source": [
        "For single word tags, the processing idea is to use the spaCy library to annotate each tag lexically (POS tagging)."
      ],
      "metadata": {
        "id": "FE4n1YvD-Mcx"
      },
      "id": "FE4n1YvD-Mcx"
    },
    {
      "cell_type": "code",
      "source": [
        "# import required libraries\n",
        "import pandas as pd\n",
        "import spacy"
      ],
      "metadata": {
        "id": "sPXaF6X2PMGj"
      },
      "id": "sPXaF6X2PMGj",
      "execution_count": null,
      "outputs": []
    },
    {
      "cell_type": "code",
      "source": [
        "# Define the folder path where the single word tags cleaned CSV file is located\n",
        "# This path points to the location of the cleaned single word tags CSV file that needs to be processed.\n",
        "folder_path = \"/content/drive/MyDrive/single_word_tags_cleaned.csv\"\n",
        "\n",
        "# Read the CSV file into a DataFrame\n",
        "# This loads the single word tags cleaned CSV file into a pandas DataFrame for data manipulation and analysis.\n",
        "df = pd.read_csv(folder_path)\n",
        "\n",
        "# Print the first few rows of the DataFrame to verify its contents\n",
        "# This provides a preview of the DataFrame, allowing you to check that it has been read correctly.\n",
        "print(df.head())\n",
        "\n",
        "# Load the spaCy English language model\n",
        "# This loads the small English language model provided by spaCy, which is necessary for part-of-speech tagging.\n",
        "nlp = spacy.load(\"en_core_web_sm\")\n",
        "\n",
        "# Define a function to get the part-of-speech (POS) tag of a single word tag\n",
        "# This function takes a tag, processes it with spaCy to get its POS tag, and returns the POS tag of the first token.\n",
        "# This is necessary to add linguistic information to the tags for further analysis.\n",
        "def get_pos(tag):\n",
        "    # Process the tag with the spaCy model\n",
        "    # This processes the tag and returns a spaCy Doc object.\n",
        "    doc = nlp(tag)\n",
        "    # If the Doc object is not empty, return the POS tag of the first token\n",
        "    if doc:\n",
        "        return doc[0].pos_\n",
        "    # If the Doc object is empty, return None\n",
        "    return None\n",
        "\n",
        "# Apply the get_pos function to the 'Tag' column and create a new 'POS' column with the results\n",
        "# This applies the get_pos function to each tag in the 'Tag' column and stores the POS tags in a new column named 'POS'.\n",
        "# Adding the POS tags provides additional linguistic context for each tag.\n",
        "df['POS'] = df['Tag'].apply(get_pos)\n",
        "\n",
        "# Print the first few rows of the updated DataFrame to verify the POS tagging\n",
        "# This provides a preview of the updated DataFrame, allowing you to check that the POS tags have been correctly added.\n",
        "print(df.head())\n",
        "\n",
        "# Define the output path for the single word tags with POS CSV file\n",
        "# This specifies where the updated DataFrame will be saved as a CSV file.\n",
        "output_path = \"/content/drive/MyDrive/single_word_tags_with_pos.csv\"\n",
        "# Save the updated DataFrame to a CSV file without including the index\n",
        "# This writes the updated DataFrame with POS tags to the specified CSV file.\n",
        "# The index=False parameter ensures that the index is not included in the saved file, making it cleaner and more readable.\n",
        "df.to_csv(output_path, index=False)\n"
      ],
      "metadata": {
        "colab": {
          "base_uri": "https://localhost:8080/"
        },
        "id": "nj26dWkI-Wdd",
        "outputId": "e86a1de8-8600-477e-ae6c-7b31b6819610"
      },
      "id": "nj26dWkI-Wdd",
      "execution_count": null,
      "outputs": [
        {
          "output_type": "stream",
          "name": "stdout",
          "text": [
            "         Tag  Frequency\n",
            "0    fantasy       5512\n",
            "1       2023       2664\n",
            "2  netgalley       1691\n",
            "3        arc       1442\n",
            "4  favorites       1353\n",
            "         Tag  Frequency    POS\n",
            "0    fantasy       5512   NOUN\n",
            "1       2023       2664    NUM\n",
            "2  netgalley       1691   NOUN\n",
            "3        arc       1442  PROPN\n",
            "4  favorites       1353   NOUN\n"
          ]
        }
      ]
    },
    {
      "cell_type": "markdown",
      "source": [
        "For processing composite labels, we adopt the following ideas:\n",
        "\n",
        "First, we use spaCy for dependency analysis. In this process, the spaCy model parses each compound tag and identifies the dependencies between each word in the tag. These dependencies can help us understand the syntactic structure of the compound tag and the relationship between words.\n",
        "\n",
        "If you want to know more about dependencies, you can refer to https://spacy.io/usage/linguistic-features#dependency-parse\n",
        "\n",
        "Based on the dependency analysis, then we extract the main lexical properties. By extracting the main lexical properties in compound tags, we can obtain the syntactic information of the core words, which is very important for understanding and classifying tags.\n",
        "\n",
        "However, automated language processing method cannot completely replace manual review, and in some complex compound tags, manual review is still needed to ensure accuracy.\n"
      ],
      "metadata": {
        "id": "XdT5-MMu1OZk"
      },
      "id": "XdT5-MMu1OZk"
    },
    {
      "cell_type": "code",
      "source": [
        "# import required libraries\n",
        "import pandas as pd\n",
        "import spacy"
      ],
      "metadata": {
        "id": "W_AjweBMUnbV"
      },
      "id": "W_AjweBMUnbV",
      "execution_count": null,
      "outputs": []
    },
    {
      "cell_type": "code",
      "source": [
        "# Define the folder path where the composite tags cleaned CSV file is located\n",
        "# This path points to the location of the cleaned composite tags CSV file that needs to be processed.\n",
        "folder_path = \"/content/drive/MyDrive/composite_tags_cleaned.csv\"\n",
        "\n",
        "# Read the CSV file into a DataFrame\n",
        "# This loads the composite tags cleaned CSV file into a pandas DataFrame for data manipulation and analysis.\n",
        "df = pd.read_csv(folder_path)\n",
        "\n",
        "# Print the first few rows of the DataFrame to verify its contents\n",
        "# This provides a preview of the DataFrame, allowing you to check that it has been read correctly.\n",
        "print(df.head())\n",
        "\n",
        "# Clean the 'Tag' column by replacing hyphens and underscores with spaces\n",
        "# This modifies the tags to replace hyphens and underscores with spaces, making them easier to process linguistically.\n",
        "df['Cleaned_Tag'] = df['Tag'].str.replace(r'[-_]', ' ', regex=True)\n",
        "\n",
        "# Print the first few rows of the DataFrame after cleaning the tags\n",
        "# This provides a preview of the DataFrame after cleaning the tags, allowing you to verify the changes.\n",
        "print(df.head())\n",
        "\n",
        "# Load the spaCy English language model\n",
        "# This loads the small English language model provided by spaCy, which is necessary for dependency parsing and POS tagging.\n",
        "nlp = spacy.load(\"en_core_web_sm\")\n",
        "\n",
        "# Define a function to perform dependency analysis on a tag\n",
        "# This function processes a tag using the spaCy language model to extract detailed dependency information for each token in the tag.\n",
        "# This information is necessary to understand the grammatical relationships between the words in the tag.\n",
        "def get_dependency_analysis(tag):\n",
        "    # Process the tag with the spaCy language model to get a Doc object\n",
        "    doc = nlp(tag)\n",
        "    # Check if the Doc object is not empty\n",
        "    if doc:\n",
        "        # Initialize an empty list to store the dependency information\n",
        "        dependencies = []\n",
        "        # Iterate over each token in the Doc object\n",
        "        for token in doc:\n",
        "            # Append a dictionary with the token's text, dependency label, head token's text, head token's POS, and the token's POS\n",
        "            dependencies.append({\n",
        "                \"text\": token.text,  # The actual word/token text\n",
        "                \"dependency\": token.dep_,  # The dependency label of the token (e.g., ROOT, nsubj)\n",
        "                \"head_text\": token.head.text,  # The text of the head token (the word the current token depends on)\n",
        "                \"head_pos\": token.head.pos_,   # The part-of-speech of the head token\n",
        "                \"token_pos\": token.pos_.       # The part-of-speech of the token\n",
        "            })\n",
        "        # Return the list of dependencies for the tag\n",
        "        return dependencies\n",
        "    # If the Doc object is empty, return None\n",
        "    return None\n",
        "\n",
        "# Apply the get_dependency_analysis function to the 'Cleaned_Tag' column and create a new 'Dependency_Analysis' column with the results\n",
        "# This applies the get_dependency_analysis function to each cleaned tag and stores the results in a new column named 'Dependency_Analysis'.\n",
        "df['Dependency_Analysis'] = df['Cleaned_Tag'].apply(get_dependency_analysis)\n",
        "\n",
        "# Define a function to extract the main part-of-speech (POS) tag from the dependency analysis\n",
        "# This function extracts the main POS tag of the 'ROOT' token from the dependency analysis.\n",
        "# The 'ROOT' token represents the central word in a sentence structure, making its POS tag a key indicator of the sentence's main grammatical role.\n",
        "def get_main_pos(dependency_analysis):\n",
        "    # Check if the dependency_analysis is empty or None\n",
        "    if not dependency_analysis:\n",
        "        # Return None if there is no dependency analysis available\n",
        "        return None\n",
        "    # Iterate over each entry in the dependency analysis\n",
        "    for dep in dependency_analysis:\n",
        "        # Check if the dependency label of the current token is 'ROOT'\n",
        "        if dep['dependency'] == 'ROOT':\n",
        "            # Return the part-of-speech (POS) of the token labeled as 'ROOT'\n",
        "            return dep['token_pos']\n",
        "    # Return None if no 'ROOT' token is found in the dependency analysis\n",
        "    return None\n",
        "\n",
        "# Apply the get_main_pos function to the 'Dependency_Analysis' column and create a new 'POS' column with the results\n",
        "# This applies the get_main_pos function to each dependency analysis and stores the main POS tag in a new column named 'POS'.\n",
        "df['POS'] = df['Dependency_Analysis'].apply(get_main_pos)\n",
        "\n",
        "# Print a message and the first few rows of the DataFrame after adding the dependency analyses\n",
        "# This provides a preview of the DataFrame after adding the dependency analyses, allowing you to verify the new columns.\n",
        "print(\"The data after adding the dependency analyses are as follows:\")\n",
        "print(df.head())\n",
        "\n",
        "# Define the output path for the composite tags with dependencies CSV file\n",
        "# This specifies where the updated DataFrame will be saved as a CSV file.\n",
        "output_path = \"/content/drive/MyDrive/composite_tags_with_dependencies.csv\"\n",
        "# Save the updated DataFrame to a CSV file without including the index\n",
        "# This writes the updated DataFrame with dependency analyses to the specified CSV file.\n",
        "# The index=False parameter ensures that the index is not included in the saved file, making it cleaner and more readable.\n",
        "df.to_csv(output_path, index=False)\n"
      ],
      "metadata": {
        "id": "k5O3IiusYFBE"
      },
      "id": "k5O3IiusYFBE",
      "execution_count": null,
      "outputs": []
    },
    {
      "cell_type": "markdown",
      "source": [
        "The lexical frequencies of single word labels are summed up and percentages are calculated, and a visual bar chart is generated."
      ],
      "metadata": {
        "id": "PU5paopTzXaU"
      },
      "id": "PU5paopTzXaU"
    },
    {
      "cell_type": "code",
      "source": [
        "# import required libraries\n",
        "import pandas as pd\n",
        "import matplotlib.pyplot as plt\n",
        "import seaborn as sns"
      ],
      "metadata": {
        "id": "aWd9Zo1EPj7I"
      },
      "id": "aWd9Zo1EPj7I",
      "execution_count": null,
      "outputs": []
    },
    {
      "cell_type": "code",
      "source": [
        "# File path\n",
        "single_word_file_path = \"/content/drive/MyDrive/single_word_tags_with_pos.csv\"\n",
        "\n",
        "# Read the CSV file into a DataFrame\n",
        "single_word_df = pd.read_csv(single_word_file_path)\n",
        "\n",
        "# Group by 'POS' and calculate sum of 'Frequency' for each group\n",
        "single_word_pos_summary = single_word_df.groupby('POS')['Frequency'].sum().reset_index()\n",
        "\n",
        "# Calculate total frequency sum\n",
        "total_sum = single_word_pos_summary['Frequency'].sum()\n",
        "\n",
        "# Calculate percentage for each category\n",
        "single_word_pos_summary['Percentage'] = (single_word_pos_summary['Frequency'] / total_sum) * 100\n",
        "\n",
        "# Display the grouped and summarized data with percentages\n",
        "print(single_word_pos_summary)\n",
        "\n",
        "# Generate a list of colors\n",
        "single_word_colors = sns.color_palette(\"husl\", len(single_word_pos_summary))\n",
        "\n",
        "# Create a color mapping based on single word tags POS\n",
        "color_mapping = dict(zip(single_word_pos_summary['POS'], single_word_colors))\n",
        "\n",
        "# Plotting\n",
        "plt.figure(figsize=(14, 7))\n",
        "\n",
        "# Bar Plot\n",
        "plt.subplot(1, 2, 1)\n",
        "bars = plt.bar(single_word_pos_summary['POS'], single_word_pos_summary['Frequency'], color=single_word_colors)\n",
        "plt.xlabel('POS')\n",
        "plt.ylabel('Frequency')\n",
        "plt.title('Frequency of POS of single word tags')\n",
        "\n",
        "# Add value labels on the bars\n",
        "for bar in bars:\n",
        "    yval = bar.get_height()\n",
        "    plt.text(bar.get_x() + bar.get_width()/2, yval + 0.05, round(yval, 2), ha='center', va='bottom')\n",
        "\n",
        "# Display the plots\n",
        "plt.tight_layout()\n",
        "plt.show()"
      ],
      "metadata": {
        "colab": {
          "base_uri": "https://localhost:8080/",
          "height": 881
        },
        "id": "ZQjziKzpKcJJ",
        "outputId": "3de676b0-f916-41e2-b7fe-600457a85009"
      },
      "id": "ZQjziKzpKcJJ",
      "execution_count": null,
      "outputs": [
        {
          "output_type": "stream",
          "name": "stdout",
          "text": [
            "     POS  Frequency  Percentage\n",
            "0    ADJ       1242    4.028936\n",
            "1    ADV         38    0.123269\n",
            "2    AUX          4    0.012976\n",
            "3   INTJ          5    0.016220\n",
            "4   NOUN      19331   62.708016\n",
            "5    NUM       3564   11.561294\n",
            "6   PRON         10    0.032439\n",
            "7  PROPN       3946   12.800467\n",
            "8   VERB       2687    8.716385\n"
          ]
        },
        {
          "output_type": "display_data",
          "data": {
            "text/plain": [
              "<Figure size 1400x700 with 1 Axes>"
            ],
            "image/png": "[encoded data removed]"
          },
          "metadata": {}
        }
      ]
    },
    {
      "cell_type": "markdown",
      "source": [
        "The lexical frequencies of composite tags are summed up and percentages are calculated, and a visual bar chart is generated.\n",
        "\n",
        "To ease comparison, the bar for composite tags is set to the same colour as single word tags.\n"
      ],
      "metadata": {
        "id": "JHJ2827NyaCB"
      },
      "id": "JHJ2827NyaCB"
    },
    {
      "cell_type": "code",
      "source": [
        "# import required libraries\n",
        "import pandas as pd"
      ],
      "metadata": {
        "id": "CysLsO-CPu3o"
      },
      "id": "CysLsO-CPu3o",
      "execution_count": null,
      "outputs": []
    },
    {
      "cell_type": "code",
      "source": [
        "# File path\n",
        "composite_tags_file_path = \"/content/drive/MyDrive/composite_tags_with_dependencies.csv\"\n",
        "\n",
        "# Read the CSV file into a DataFrame\n",
        "composite_tags_df = pd.read_csv(composite_tags_file_path)\n",
        "\n",
        "# Group by 'POS' and calculate sum of 'Frequency' for each group\n",
        "composite_pos_summary = composite_tags_df.groupby('POS')['Frequency'].sum().reset_index()\n",
        "\n",
        "# Calculate total frequency sum\n",
        "total_sum = composite_pos_summary['Frequency'].sum()\n",
        "\n",
        "# Calculate percentage for each category\n",
        "composite_pos_summary['Percentage'] = (composite_pos_summary['Frequency'] / total_sum) * 100\n",
        "\n",
        "# Display the grouped and summarized data with percentages\n",
        "print(composite_pos_summary)\n",
        "\n",
        "# Get the corresponding colors for composite tags based on the mapping\n",
        "composite_colors = [color_mapping.get(pos, \"#333333\") for pos in composite_pos_summary['POS']]\n",
        "\n",
        "# Plotting for composite tags\n",
        "plt.figure(figsize=(14, 7))\n",
        "\n",
        "# Bar Plot for composite tags\n",
        "plt.subplot(1, 2, 1)\n",
        "bars = plt.bar(composite_pos_summary['POS'], composite_pos_summary['Frequency'], color=composite_colors)\n",
        "plt.xlabel('POS')\n",
        "plt.ylabel('Frequency')\n",
        "plt.title('Frequency of POS of Composite Tags')\n",
        "\n",
        "# Add value labels on the bars for composite tags\n",
        "for bar in bars:\n",
        "    yval = bar.get_height()\n",
        "    plt.text(bar.get_x() + bar.get_width()/2, yval + 0.05, round(yval, 2), ha='center', va='bottom')\n",
        "\n",
        "# Display the plots for composite tags\n",
        "plt.tight_layout()\n",
        "plt.show()"
      ],
      "metadata": {
        "colab": {
          "base_uri": "https://localhost:8080/",
          "height": 881
        },
        "id": "sEhm0K_f0VJh",
        "outputId": "cbf8026b-198a-43a9-a86d-6bf5a7a8a74e"
      },
      "id": "sEhm0K_f0VJh",
      "execution_count": null,
      "outputs": [
        {
          "output_type": "stream",
          "name": "stdout",
          "text": [
            "      POS  Frequency  Percentage\n",
            "0     ADJ       1025    3.083078\n",
            "1     ADP        420    1.263310\n",
            "2     ADV        126    0.378993\n",
            "3    INTJ          6    0.018047\n",
            "4    NOUN      22422   67.442700\n",
            "5     NUM         49    0.147386\n",
            "6  Others         58    0.174457\n",
            "7   PROPN       2486    7.477591\n",
            "8    VERB       6654   20.014438\n"
          ]
        },
        {
          "output_type": "display_data",
          "data": {
            "text/plain": [
              "<Figure size 1400x700 with 1 Axes>"
            ],
            "image/png": "[encoded data removed]"
          },
          "metadata": {}
        }
      ]
    },
    {
      "cell_type": "markdown",
      "source": [
        "### **Q4:What topics do these labels usually cover?**"
      ],
      "metadata": {
        "id": "2aUZK-pNna2T"
      },
      "id": "2aUZK-pNna2T"
    },
    {
      "cell_type": "markdown",
      "source": [
        "The problem is solved as follows: (1). Label vectorisation: transform each label into a vector representation. (2). Category vectorisation: calculate the average vector of all labels in each category. (3). Similarity calculation: calculate the cosine similarity between the label vectors and each category vector to find the most similar category. (4). Label classification: Classify each label into the most similar category. (5). Result saving: save the labels and corresponding categories to a CSV file."
      ],
      "metadata": {
        "id": "vP_2mnBTv7oN"
      },
      "id": "vP_2mnBTv7oN"
    },
    {
      "cell_type": "markdown",
      "source": [
        "Here, we load the SentenceTransformer model 'all-MiniLM-L6-v2', which is used to transform text into vector embeddings.\n",
        "\n",
        "Compared to other models (e.g. en_core_web_sm), Sentence-BERT is more good at handling text similarity tasks and can better capture the semantic relationships between tags. The model is used to convert each label and category into a vector representation, and then the similarity of each label to all categories is calculated to find the best matching category."
      ],
      "metadata": {
        "id": "TGweZyEhkFzY"
      },
      "id": "TGweZyEhkFzY"
    },
    {
      "cell_type": "code",
      "source": [
        "!pip install sentence-transformers"
      ],
      "metadata": {
        "colab": {
          "base_uri": "https://localhost:8080/"
        },
        "id": "-3DJomNc3xzY",
        "outputId": "189891df-981f-4cda-f668-eb6e65a0a976"
      },
      "id": "-3DJomNc3xzY",
      "execution_count": null,
      "outputs": [
        {
          "output_type": "stream",
          "name": "stdout",
          "text": [
            "Collecting sentence-transformers\n",
            "  Downloading sentence_transformers-3.0.1-py3-none-any.whl (227 kB)\n",
            "\u001b[?25l     \u001b[90m━━━━━━━━━━━━━━━━━━━━━━━━━━━━━━━━━━━━━━━━\u001b[0m \u001b[32m0.0/227.1 kB\u001b[0m \u001b[31m?\u001b[0m eta \u001b[36m-:--:--\u001b[0m\r\u001b[2K     \u001b[91m━━━━━━━━━━━━━━━━━━━━━━━━━━━━━━━━━━━━━━━\u001b[0m\u001b[91m╸\u001b[0m \u001b[32m225.3/227.1 kB\u001b[0m \u001b[31m6.4 MB/s\u001b[0m eta \u001b[36m0:00:01\u001b[0m\r\u001b[2K     \u001b[90m━━━━━━━━━━━━━━━━━━━━━━━━━━━━━━━━━━━━━━━━\u001b[0m \u001b[32m227.1/227.1 kB\u001b[0m \u001b[31m5.3 MB/s\u001b[0m eta \u001b[36m0:00:00\u001b[0m\n",
            "\u001b[?25hRequirement already satisfied: transformers<5.0.0,>=4.34.0 in /usr/local/lib/python3.10/dist-packages (from sentence-transformers) (4.41.2)\n",
            "Requirement already satisfied: tqdm in /usr/local/lib/python3.10/dist-packages (from sentence-transformers) (4.66.4)\n",
            "Requirement already satisfied: torch>=1.11.0 in /usr/local/lib/python3.10/dist-packages (from sentence-transformers) (2.3.0+cu121)\n",
            "Requirement already satisfied: numpy in /usr/local/lib/python3.10/dist-packages (from sentence-transformers) (1.25.2)\n",
            "Requirement already satisfied: scikit-learn in /usr/local/lib/python3.10/dist-packages (from sentence-transformers) (1.2.2)\n",
            "Requirement already satisfied: scipy in /usr/local/lib/python3.10/dist-packages (from sentence-transformers) (1.11.4)\n",
            "Requirement already satisfied: huggingface-hub>=0.15.1 in /usr/local/lib/python3.10/dist-packages (from sentence-transformers) (0.23.4)\n",
            "Requirement already satisfied: Pillow in /usr/local/lib/python3.10/dist-packages (from sentence-transformers) (9.4.0)\n",
            "Requirement already satisfied: filelock in /usr/local/lib/python3.10/dist-packages (from huggingface-hub>=0.15.1->sentence-transformers) (3.15.3)\n",
            "Requirement already satisfied: fsspec>=2023.5.0 in /usr/local/lib/python3.10/dist-packages (from huggingface-hub>=0.15.1->sentence-transformers) (2023.6.0)\n",
            "Requirement already satisfied: packaging>=20.9 in /usr/local/lib/python3.10/dist-packages (from huggingface-hub>=0.15.1->sentence-transformers) (24.1)\n",
            "Requirement already satisfied: pyyaml>=5.1 in /usr/local/lib/python3.10/dist-packages (from huggingface-hub>=0.15.1->sentence-transformers) (6.0.1)\n",
            "Requirement already satisfied: requests in /usr/local/lib/python3.10/dist-packages (from huggingface-hub>=0.15.1->sentence-transformers) (2.31.0)\n",
            "Requirement already satisfied: typing-extensions>=3.7.4.3 in /usr/local/lib/python3.10/dist-packages (from huggingface-hub>=0.15.1->sentence-transformers) (4.12.2)\n",
            "Requirement already satisfied: sympy in /usr/local/lib/python3.10/dist-packages (from torch>=1.11.0->sentence-transformers) (1.12.1)\n",
            "Requirement already satisfied: networkx in /usr/local/lib/python3.10/dist-packages (from torch>=1.11.0->sentence-transformers) (3.3)\n",
            "Requirement already satisfied: jinja2 in /usr/local/lib/python3.10/dist-packages (from torch>=1.11.0->sentence-transformers) (3.1.4)\n",
            "Collecting nvidia-cuda-nvrtc-cu12==12.1.105 (from torch>=1.11.0->sentence-transformers)\n",
            "  Using cached nvidia_cuda_nvrtc_cu12-12.1.105-py3-none-manylinux1_x86_64.whl (23.7 MB)\n",
            "Collecting nvidia-cuda-runtime-cu12==12.1.105 (from torch>=1.11.0->sentence-transformers)\n",
            "  Using cached nvidia_cuda_runtime_cu12-12.1.105-py3-none-manylinux1_x86_64.whl (823 kB)\n",
            "Collecting nvidia-cuda-cupti-cu12==12.1.105 (from torch>=1.11.0->sentence-transformers)\n",
            "  Using cached nvidia_cuda_cupti_cu12-12.1.105-py3-none-manylinux1_x86_64.whl (14.1 MB)\n",
            "Collecting nvidia-cudnn-cu12==8.9.2.26 (from torch>=1.11.0->sentence-transformers)\n",
            "  Using cached nvidia_cudnn_cu12-8.9.2.26-py3-none-manylinux1_x86_64.whl (731.7 MB)\n",
            "Collecting nvidia-cublas-cu12==12.1.3.1 (from torch>=1.11.0->sentence-transformers)\n",
            "  Using cached nvidia_cublas_cu12-12.1.3.1-py3-none-manylinux1_x86_64.whl (410.6 MB)\n",
            "Collecting nvidia-cufft-cu12==11.0.2.54 (from torch>=1.11.0->sentence-transformers)\n",
            "  Using cached nvidia_cufft_cu12-11.0.2.54-py3-none-manylinux1_x86_64.whl (121.6 MB)\n",
            "Collecting nvidia-curand-cu12==10.3.2.106 (from torch>=1.11.0->sentence-transformers)\n",
            "  Using cached nvidia_curand_cu12-10.3.2.106-py3-none-manylinux1_x86_64.whl (56.5 MB)\n",
            "Collecting nvidia-cusolver-cu12==11.4.5.107 (from torch>=1.11.0->sentence-transformers)\n",
            "  Using cached nvidia_cusolver_cu12-11.4.5.107-py3-none-manylinux1_x86_64.whl (124.2 MB)\n",
            "Collecting nvidia-cusparse-cu12==12.1.0.106 (from torch>=1.11.0->sentence-transformers)\n",
            "  Using cached nvidia_cusparse_cu12-12.1.0.106-py3-none-manylinux1_x86_64.whl (196.0 MB)\n",
            "Collecting nvidia-nccl-cu12==2.20.5 (from torch>=1.11.0->sentence-transformers)\n",
            "  Using cached nvidia_nccl_cu12-2.20.5-py3-none-manylinux2014_x86_64.whl (176.2 MB)\n",
            "Collecting nvidia-nvtx-cu12==12.1.105 (from torch>=1.11.0->sentence-transformers)\n",
            "  Using cached nvidia_nvtx_cu12-12.1.105-py3-none-manylinux1_x86_64.whl (99 kB)\n",
            "Requirement already satisfied: triton==2.3.0 in /usr/local/lib/python3.10/dist-packages (from torch>=1.11.0->sentence-transformers) (2.3.0)\n",
            "Collecting nvidia-nvjitlink-cu12 (from nvidia-cusolver-cu12==11.4.5.107->torch>=1.11.0->sentence-transformers)\n",
            "  Downloading nvidia_nvjitlink_cu12-12.5.40-py3-none-manylinux2014_x86_64.whl (21.3 MB)\n",
            "\u001b[2K     \u001b[90m━━━━━━━━━━━━━━━━━━━━━━━━━━━━━━━━━━━━━━━━\u001b[0m \u001b[32m21.3/21.3 MB\u001b[0m \u001b[31m39.7 MB/s\u001b[0m eta \u001b[36m0:00:00\u001b[0m\n",
            "\u001b[?25hRequirement already satisfied: regex!=2019.12.17 in /usr/local/lib/python3.10/dist-packages (from transformers<5.0.0,>=4.34.0->sentence-transformers) (2024.5.15)\n",
            "Requirement already satisfied: tokenizers<0.20,>=0.19 in /usr/local/lib/python3.10/dist-packages (from transformers<5.0.0,>=4.34.0->sentence-transformers) (0.19.1)\n",
            "Requirement already satisfied: safetensors>=0.4.1 in /usr/local/lib/python3.10/dist-packages (from transformers<5.0.0,>=4.34.0->sentence-transformers) (0.4.3)\n",
            "Requirement already satisfied: joblib>=1.1.1 in /usr/local/lib/python3.10/dist-packages (from scikit-learn->sentence-transformers) (1.4.2)\n",
            "Requirement already satisfied: threadpoolctl>=2.0.0 in /usr/local/lib/python3.10/dist-packages (from scikit-learn->sentence-transformers) (3.5.0)\n",
            "Requirement already satisfied: MarkupSafe>=2.0 in /usr/local/lib/python3.10/dist-packages (from jinja2->torch>=1.11.0->sentence-transformers) (2.1.5)\n",
            "Requirement already satisfied: charset-normalizer<4,>=2 in /usr/local/lib/python3.10/dist-packages (from requests->huggingface-hub>=0.15.1->sentence-transformers) (3.3.2)\n",
            "Requirement already satisfied: idna<4,>=2.5 in /usr/local/lib/python3.10/dist-packages (from requests->huggingface-hub>=0.15.1->sentence-transformers) (3.7)\n",
            "Requirement already satisfied: urllib3<3,>=1.21.1 in /usr/local/lib/python3.10/dist-packages (from requests->huggingface-hub>=0.15.1->sentence-transformers) (2.0.7)\n",
            "Requirement already satisfied: certifi>=2017.4.17 in /usr/local/lib/python3.10/dist-packages (from requests->huggingface-hub>=0.15.1->sentence-transformers) (2024.6.2)\n",
            "Requirement already satisfied: mpmath<1.4.0,>=1.1.0 in /usr/local/lib/python3.10/dist-packages (from sympy->torch>=1.11.0->sentence-transformers) (1.3.0)\n",
            "Installing collected packages: nvidia-nvtx-cu12, nvidia-nvjitlink-cu12, nvidia-nccl-cu12, nvidia-curand-cu12, nvidia-cufft-cu12, nvidia-cuda-runtime-cu12, nvidia-cuda-nvrtc-cu12, nvidia-cuda-cupti-cu12, nvidia-cublas-cu12, nvidia-cusparse-cu12, nvidia-cudnn-cu12, nvidia-cusolver-cu12, sentence-transformers\n",
            "Successfully installed nvidia-cublas-cu12-12.1.3.1 nvidia-cuda-cupti-cu12-12.1.105 nvidia-cuda-nvrtc-cu12-12.1.105 nvidia-cuda-runtime-cu12-12.1.105 nvidia-cudnn-cu12-8.9.2.26 nvidia-cufft-cu12-11.0.2.54 nvidia-curand-cu12-10.3.2.106 nvidia-cusolver-cu12-11.4.5.107 nvidia-cusparse-cu12-12.1.0.106 nvidia-nccl-cu12-2.20.5 nvidia-nvjitlink-cu12-12.5.40 nvidia-nvtx-cu12-12.1.105 sentence-transformers-3.0.1\n"
          ]
        }
      ]
    },
    {
      "cell_type": "code",
      "source": [
        "# import required libraries\n",
        "from sentence_transformers import SentenceTransformer\n",
        "import pandas as pd\n",
        "from scipy.spatial.distance import cosine\n",
        "import numpy as np\n",
        "import os"
      ],
      "metadata": {
        "id": "mbgR_iCsH8rr"
      },
      "id": "mbgR_iCsH8rr",
      "execution_count": null,
      "outputs": []
    },
    {
      "cell_type": "markdown",
      "source": [
        "Formerly, by manually checking the tags, we divided them into 10 categories, they are: Year, Characters, Plot/Storyline, Author, Genre, Theme, Reading experience, Audience, Format, Attributes."
      ],
      "metadata": {
        "id": "UI-IL5iho4R4"
      },
      "id": "UI-IL5iho4R4"
    },
    {
      "cell_type": "code",
      "source": [
        "# Load the pre-trained SentenceTransformer model 'all-MiniLM-L6-v2'\n",
        "# This model is used for converting text into vector embeddings\n",
        "model = SentenceTransformer('all-MiniLM-L6-v2')\n",
        "\n",
        "# Define a dictionary of categories with lists of tags related to each category\n",
        "# This categorizes the tags into meaningful groups for better organization and retrieval\n",
        "categories = {\n",
        "    \"Year\": [\"best-of-2023\", \"read-in-2023\", \"2023\", \"coming-soon\", \"2023-reads\", \"2024\", \"2023-releases\", \"2023-priority-releases\", \"2023-faves\", \"read-2023\", \"2023-top-ten\", \"best-books-of-2023\", \"pub-2023\", \"2022-favorites\", \"2023-best-reads\", \"2023-favourites\", \"2023-release\", \"2023-new-releases\", \"read-in-2023\", \"2023-reads\", \"faves-2023\", \"favourites-2023\", \"best-reads-of-24\", \"anticipated-releases\", \"2023-favorite-reads\", \"yearly-anticipated-2023\"],\n",
        "    \"Characters\": [\"lgbtq\", \"badass-women\", \"queer-leads\", \"fiction-queer\", \"but-make-it-gay\", \"read-lgbtqia\", \"queer-reads\", \"lgbt\", \"female-protagonist\", \"badass-mcs\", \"lgbtq-fantasy-rep\", \"lgbtqia2s\", \"female-fronted-fantasy\", \"achillean-mc\", \"queer-fantasy\"],\n",
        "    \"Plot/Storyline\": [\"arcs\", \"enemies-to-lovers\", \"arc\", \"family-dynamics\", \"adulting-is-hard\", \"all-parents-damage-their-children\"],\n",
        "    \"Author\": [\"author-is-nice\", \"non-men-authors\", \"sapphic-characters-and-authors\", \"female-author\"],\n",
        "    \"Genre\": [\"fantasy\", \"fiction-high-fantasy\", \"fantasy-game\", \"it's-a-kind-of-magic\", \"roman\", \"fantasy-dragons\", \"fiction\", \"china\", \"high-fantasy\", \"american-literature\", \"fantasy-read\", \"fantasy-favorites\", \"magic\", \"fiction-fantasy\", \"fiction-series\", \"f-novel\", \"fantasy-epic\", \"romance\", \"myth-fairy-tale-fantasy\"],\n",
        "    \"Theme\": [\"sapphic\", \"achillean\", \"queer-themes\",\"dragons-or-wyrms\", \"dragons\",  \"feminism\", \"ace-books\", \"bisexual-rep\", \"bi-rep\", \"apocalyptic\", \"2024-creatures-from-folklore-myth\", \"fantasy-heroic\", \"epic\", \"abandonado\", \"brujas-brujos-brujería\", \"aro-ace-aspec\", \"adventure\", \"coming-of-age\", \"lesbian\", \"sapphic-romance\", \"sapphic-fantasy\", \"mythical-beasties\", \"sapphic-girlies\", \"queer-romance\", \"lesbian-sff\"],\n",
        "    \"Reading experience\": [\"fav-fantasy-books-i-recommend\", \"fantasy-recommendations\", \"sff-favorites\", \"published-tbr\", \"1-one-star-books\", \"beautiful-writing\", \"5-star\", \"favorites\", \"started-but-did-not-finish\", \"favorite-books\", \"wtf-am-i-reading\", \"all-time-favorites\", \"6-star-reads-books-of-my-life\", \"actual-tbr\", \"audiobook-tbr\", \"disappoiments\", \"bargain\", \"five-stars\", \"all-time-favorites\", \"best-fantasy\", \"4-25-stars\",  \"want-to-reread\", \"all-time-favs\", \"5-star-reads\", \"my-favorites\", \"4-stars\",\"all-time-favs\", \"all-time-favorites\", \"favorites\", \"immersive\", \"to-buy\", \"4stars\", \"read-soon-or-unhaul\", \"favs\", \"want-to-reread\", \"chefs-kiss\", \"all-time-favorite-books\", \"re-readable\"],\n",
        "    \"Audience\": [\"adult\", \"adult-fiction\", \"age-adult\", \"adult-fantasy-scifi\", \"read-adult\", \"adult-fantasy\"],\n",
        "    \"Format\": [\"arcs-netgalley\", \"earc\", \"arc-s-netgalley-and-edelweiss\", \"arc-books\", \"netgalley\", \"physical-copy\", \"signed-special-edition\", \"a-r-c-or-review-copy\", \"audiobooks\", \"buddy-reads\", \"audio\", \"arc-copies\", \"arc-reviews\", \"ebooks-i-own\", \"audiobooks\"],\n",
        "    \"Attributes\": [\"in-english\", \"english-read\", \"owned\", \"800-pages\", \"books-i-own\", \"on-my-bookshelf\", \"2023-owned-read\", \"owned-unread\", \"bought23\"]\n",
        "}\n",
        "\n",
        "# Define a function to get the vector embedding of a given text\n",
        "def get_vector(text):\n",
        "    # Use the pre-trained model to convert the text into a numerical vector\n",
        "    return model.encode(text)\n",
        "\n",
        "# Calculate the average vector for each category based on its tags\n",
        "# This creates a vector representation for each category by averaging the vectors of its tags\n",
        "category_vectors = {cat: np.mean([get_vector(label) for label in labels], axis=0) for cat, labels in categories.items()}\n",
        "\n",
        "# Define a function to find the best category for a given tag\n",
        "def find_best_category(tag):\n",
        "    # Get the vector embedding for the input tag\n",
        "    # This converts the tag into a numerical vector for comparison\n",
        "    tag_vec = get_vector(tag)\n",
        "\n",
        "    # Initialize variables to store the best matching category and the highest similarity found\n",
        "    # These will be used to track the most similar category and its similarity score\n",
        "    best_category = None\n",
        "    highest_similarity = -1\n",
        "\n",
        "    # Iterate over each category and its vector in the category_vectors dictionary\n",
        "    for category, category_vec in category_vectors.items():\n",
        "        # Calculate the cosine similarity between the tag vector and the current category vector\n",
        "        # Cosine similarity measures how similar two vectors are, with 1 being identical and 0 being orthogonal\n",
        "        similarity = 1 - cosine(tag_vec, category_vec)\n",
        "\n",
        "        # Check if the current similarity is higher than the highest similarity found so far\n",
        "        if similarity > highest_similarity:\n",
        "            # Update the highest similarity and the best matching category\n",
        "            # This ensures we always keep the category with the highest similarity score\n",
        "            highest_similarity = similarity\n",
        "            best_category = category\n",
        "\n",
        "    # Return the best matching category for the input tag\n",
        "    # This function identifies the category that is most semantically similar to the given tag\n",
        "    # This is necessary for categorizing tags based on their meanings and ensuring they are grouped correctly\n",
        "    return best_category\n",
        "\n",
        "# Define the input and output folder paths for the CSV files\n",
        "# These paths specify where the input CSV files are located and where the output files should be saved\n",
        "input_folder = '/content/drive/MyDrive/Page_5_tags'\n",
        "output_folder = '/content/drive/MyDrive/Page_5_tags_category'\n",
        "\n",
        "# Iterate over each file in the input folder\n",
        "for file_name in os.listdir(input_folder):\n",
        "    # Check if the file is a CSV file\n",
        "    if file_name.endswith('.csv'):\n",
        "        # Construct the full file path for the current file\n",
        "        file_path = os.path.join(input_folder, file_name)\n",
        "        # Read the CSV file into a DataFrame\n",
        "        # This reads the CSV content into a pandas DataFrame for easier manipulation\n",
        "        df = pd.read_csv(file_path)\n",
        "        # Split the tags in the 'Tags' column and explode them into a list\n",
        "        # This separates and flattens the tags into a single list\n",
        "        tags = df['Tags'].apply(lambda x: x.split(';')).explode().tolist()\n",
        "\n",
        "        # Initialize a set to store unique processed tags\n",
        "        # This set will hold the individual tags after they have been processed (split and stripped).\n",
        "        # Using a set ensures that each tag is stored only once, removing duplicates.\n",
        "        processed_tags = set()\n",
        "\n",
        "        # Iterate over each tag string in the list of tags\n",
        "        for tag_string in tags:\n",
        "            # Split the tag string by the delimiter '；' and strip any surrounding whitespace from each tag\n",
        "            # This splits the concatenated tags into individual tags and removes any leading or trailing spaces.\n",
        "            # Stripping whitespace is important for accurate comparison and categorization.\n",
        "            individual_tags = [tag.strip() for tag in tag_string.split('；')]\n",
        "\n",
        "            # Add the processed individual tags to the set\n",
        "            # This adds the individual tags to the set, ensuring no duplicates and preserving unique tags.\n",
        "            # Updating the set with new tags ensures that all tags from the current tag string are included.\n",
        "            processed_tags.update(individual_tags)\n",
        "\n",
        "        # Create a dictionary mapping each tag to its best category\n",
        "        # This maps each processed tag to the most similar category\n",
        "        tag_to_category = {tag: find_best_category(tag) for tag in processed_tags}\n",
        "\n",
        "        # Create a DataFrame from the tag-to-category mapping\n",
        "        # This converts the mapping to a DataFrame for saving\n",
        "        output_df = pd.DataFrame(tag_to_category.items(), columns=['tag', 'category'])\n",
        "        # Construct the output file path\n",
        "        # This sets the path for the output CSV file\n",
        "        output_csv_path = os.path.join(output_folder, file_name)\n",
        "        # Save the DataFrame to a CSV file\n",
        "        # This writes the DataFrame to a CSV file without including the index\n",
        "        output_df.to_csv(output_csv_path, index=False)\n",
        "\n",
        "        # Print a message indicating the result has been saved\n",
        "        # This confirms the file has been saved\n",
        "        print(f\"the result has been saved to {output_csv_path}\")\n"
      ],
      "metadata": {
        "colab": {
          "base_uri": "https://localhost:8080/"
        },
        "id": "DBwrSzM41yMn",
        "outputId": "41716c8e-5d9d-4aee-fd0b-d3024b751c97"
      },
      "id": "DBwrSzM41yMn",
      "execution_count": null,
      "outputs": [
        {
          "output_type": "stream",
          "name": "stderr",
          "text": [
            "/usr/local/lib/python3.10/dist-packages/huggingface_hub/file_download.py:1132: FutureWarning: `resume_download` is deprecated and will be removed in version 1.0.0. Downloads always resume when possible. If you want to force a new download, use `force_download=True`.\n",
            "  warnings.warn(\n"
          ]
        },
        {
          "output_type": "stream",
          "name": "stdout",
          "text": [
            "the result has been saved to /content/drive/MyDrive/Page_5_tags_category/reviews-four-masked-wolves_tag_count.csv\n",
            "the result has been saved to /content/drive/MyDrive/Page_5_tags_category/reviews-captured-by-the-orc-general_tag_count.csv\n",
            "the result has been saved to /content/drive/MyDrive/Page_5_tags_category/reviews-monster-lover_tag_count.csv\n",
            "the result has been saved to /content/drive/MyDrive/Page_5_tags_category/reviews-the-last-one_tag_count.csv\n",
            "the result has been saved to /content/drive/MyDrive/Page_5_tags_category/reviews-jade-shards_tag_count.csv\n",
            "the result has been saved to /content/drive/MyDrive/Page_5_tags_category/reviews-magic-tides_tag_count.csv\n",
            "the result has been saved to /content/drive/MyDrive/Page_5_tags_category/reviews-devil-s-gun_tag_count.csv\n",
            "the result has been saved to /content/drive/MyDrive/Page_5_tags_category/reviews-claws-and-contrivances_tag_count.csv\n",
            "the result has been saved to /content/drive/MyDrive/Page_5_tags_category/reviews-bones-of-the-lich-king_tag_count.csv\n",
            "the result has been saved to /content/drive/MyDrive/Page_5_tags_category/reviews-the-galactic-zookeeper-s-guide-to-heists-and-husbandry_tag_count.csv\n",
            "the result has been saved to /content/drive/MyDrive/Page_5_tags_category/reviews-wild-night_tag_count.csv\n",
            "the result has been saved to /content/drive/MyDrive/Page_5_tags_category/reviews-maeve-fly_tag_count.csv\n",
            "the result has been saved to /content/drive/MyDrive/Page_5_tags_category/reviews-alebrijes_tag_count.csv\n",
            "the result has been saved to /content/drive/MyDrive/Page_5_tags_category/reviews-a-chain-of-braided-silver_tag_count.csv\n",
            "the result has been saved to /content/drive/MyDrive/Page_5_tags_category/reviews-frantor_tag_count.csv\n",
            "the result has been saved to /content/drive/MyDrive/Page_5_tags_category/reviews-the-last-dragoners-of-bowbazar_tag_count.csv\n",
            "the result has been saved to /content/drive/MyDrive/Page_5_tags_category/reviews-legacy-of-shadows_tag_count.csv\n",
            "the result has been saved to /content/drive/MyDrive/Page_5_tags_category/reviews-liberty-s-daughter_tag_count.csv\n",
            "the result has been saved to /content/drive/MyDrive/Page_5_tags_category/reviews-descendant-machine_tag_count.csv\n",
            "the result has been saved to /content/drive/MyDrive/Page_5_tags_category/reviews-the-prophet-of-edan_tag_count.csv\n",
            "the result has been saved to /content/drive/MyDrive/Page_5_tags_category/reviews-hopeland_tag_count.csv\n",
            "the result has been saved to /content/drive/MyDrive/Page_5_tags_category/reviews-night-of-the-nymph_tag_count.csv\n",
            "the result has been saved to /content/drive/MyDrive/Page_5_tags_category/reviews-hell-or-highwater_tag_count.csv\n",
            "the result has been saved to /content/drive/MyDrive/Page_5_tags_category/reviews-anchor-of-secrets_tag_count.csv\n",
            "the result has been saved to /content/drive/MyDrive/Page_5_tags_category/reviews-demonic-desires_tag_count.csv\n",
            "the result has been saved to /content/drive/MyDrive/Page_5_tags_category/reviews-the-demon-sword-asperides_tag_count.csv\n",
            "the result has been saved to /content/drive/MyDrive/Page_5_tags_category/reviews-the-husky-and-his-white-cat-shizun_tag_count.csv\n",
            "the result has been saved to /content/drive/MyDrive/Page_5_tags_category/reviews-the-body-catcher_tag_count.csv\n",
            "the result has been saved to /content/drive/MyDrive/Page_5_tags_category/reviews-high-vaultage_tag_count.csv\n",
            "the result has been saved to /content/drive/MyDrive/Page_5_tags_category/reviews-the-ruthless-fae-king_tag_count.csv\n",
            "the result has been saved to /content/drive/MyDrive/Page_5_tags_category/reviews-translation-state_tag_count.csv\n",
            "the result has been saved to /content/drive/MyDrive/Page_5_tags_category/reviews-magic-claims_tag_count.csv\n",
            "the result has been saved to /content/drive/MyDrive/Page_5_tags_category/reviews-ruins-of-sea-and-souls_tag_count.csv\n",
            "the result has been saved to /content/drive/MyDrive/Page_5_tags_category/reviews-nordic-visions_tag_count.csv\n",
            "the result has been saved to /content/drive/MyDrive/Page_5_tags_category/reviews-taken-by-the-fae-king_tag_count.csv\n",
            "the result has been saved to /content/drive/MyDrive/Page_5_tags_category/reviews-gilmat_tag_count.csv\n",
            "the result has been saved to /content/drive/MyDrive/Page_5_tags_category/reviews-children-of-memory_tag_count.csv\n",
            "the result has been saved to /content/drive/MyDrive/Page_5_tags_category/reviews-the-jaguar-path_tag_count.csv\n",
            "the result has been saved to /content/drive/MyDrive/Page_5_tags_category/reviews-thief-liar-lady_tag_count.csv\n",
            "the result has been saved to /content/drive/MyDrive/Page_5_tags_category/reviews-destiny-of-ashes_tag_count.csv\n",
            "the result has been saved to /content/drive/MyDrive/Page_5_tags_category/reviews-my-brother-s-keeper_tag_count.csv\n",
            "the result has been saved to /content/drive/MyDrive/Page_5_tags_category/reviews-fighting-for-the-demon-king_tag_count.csv\n",
            "the result has been saved to /content/drive/MyDrive/Page_5_tags_category/reviews-next-door-incubus_tag_count.csv\n",
            "the result has been saved to /content/drive/MyDrive/Page_5_tags_category/reviews-legacy-of-brick-bone_tag_count.csv\n",
            "the result has been saved to /content/drive/MyDrive/Page_5_tags_category/reviews-the-forest-grimm_tag_count.csv\n",
            "the result has been saved to /content/drive/MyDrive/Page_5_tags_category/reviews-the-mimicking-of-known-successes_tag_count.csv\n",
            "the result has been saved to /content/drive/MyDrive/Page_5_tags_category/reviews-how-not-to-date-a-demon_tag_count.csv\n",
            "the result has been saved to /content/drive/MyDrive/Page_5_tags_category/reviews-just-my-suck_tag_count.csv\n",
            "the result has been saved to /content/drive/MyDrive/Page_5_tags_category/reviews-quest-of-fools_tag_count.csv\n",
            "the result has been saved to /content/drive/MyDrive/Page_5_tags_category/reviews-the-necessity-of-rain_tag_count.csv\n",
            "the result has been saved to /content/drive/MyDrive/Page_5_tags_category/reviews-the-dark-lord-s-daughter_tag_count.csv\n"
          ]
        }
      ]
    },
    {
      "cell_type": "markdown",
      "source": [
        "**Reference**\n",
        "\n",
        "spaCy. (n.d.). *Industrial-strength natural language processing in python*. Retrieved from https://spacy.io/\n"
      ],
      "metadata": {
        "id": "F41uTF5QfW6t"
      },
      "id": "F41uTF5QfW6t"
    }
  ],
  "metadata": {
    "kernelspec": {
      "display_name": "Python 3 (ipykernel)",
      "language": "python",
      "name": "python3"
    },
    "language_info": {
      "codemirror_mode": {
        "name": "ipython",
        "version": 3
      },
      "file_extension": ".py",
      "mimetype": "text/x-python",
      "name": "python",
      "nbconvert_exporter": "python",
      "pygments_lexer": "ipython3",
      "version": "3.8.8"
    },
    "colab": {
      "provenance": []
    }
  },
  "nbformat": 4,
  "nbformat_minor": 5
}